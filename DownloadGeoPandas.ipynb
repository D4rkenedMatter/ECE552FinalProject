{
 "cells": [
  {
   "cell_type": "code",
   "execution_count": 1,
   "metadata": {},
   "outputs": [
    {
     "name": "stdout",
     "output_type": "stream",
     "text": [
      "Collecting geopandas\n",
      "  Downloading geopandas-0.10.2-py2.py3-none-any.whl (1.0 MB)\n",
      "Collecting fiona>=1.8\n",
      "  Downloading Fiona-1.9.3-cp37-cp37m-win_amd64.whl (22.0 MB)\n",
      "Collecting pyproj>=2.2.0\n",
      "  Downloading pyproj-3.2.1-cp37-cp37m-win_amd64.whl (6.2 MB)\n",
      "Collecting shapely>=1.6\n",
      "  Downloading shapely-2.0.1-cp37-cp37m-win_amd64.whl (1.4 MB)\n",
      "Requirement already satisfied: pandas>=0.25.0 in c:\\bigdata\\anaconda3\\lib\\site-packages (from geopandas) (1.0.1)\n",
      "Collecting click-plugins>=1.0\n",
      "  Downloading click_plugins-1.1.1-py2.py3-none-any.whl (7.5 kB)\n",
      "Collecting cligj>=0.5\n",
      "  Downloading cligj-0.7.2-py3-none-any.whl (7.1 kB)\n",
      "Collecting munch>=2.3.2\n",
      "  Downloading munch-2.5.0-py2.py3-none-any.whl (10 kB)\n",
      "Requirement already satisfied: attrs>=19.2.0 in c:\\bigdata\\anaconda3\\lib\\site-packages (from fiona>=1.8->geopandas) (19.3.0)\n",
      "Collecting click~=8.0\n",
      "  Downloading click-8.1.3-py3-none-any.whl (96 kB)\n",
      "Requirement already satisfied: certifi in c:\\bigdata\\anaconda3\\lib\\site-packages (from fiona>=1.8->geopandas) (2019.11.28)\n",
      "Requirement already satisfied: importlib-metadata; python_version < \"3.10\" in c:\\bigdata\\anaconda3\\lib\\site-packages (from fiona>=1.8->geopandas) (1.5.0)\n",
      "Requirement already satisfied: numpy>=1.14 in c:\\bigdata\\anaconda3\\lib\\site-packages (from shapely>=1.6->geopandas) (1.18.1)\n",
      "Requirement already satisfied: python-dateutil>=2.6.1 in c:\\bigdata\\anaconda3\\lib\\site-packages (from pandas>=0.25.0->geopandas) (2.8.1)\n",
      "Requirement already satisfied: pytz>=2017.2 in c:\\bigdata\\anaconda3\\lib\\site-packages (from pandas>=0.25.0->geopandas) (2019.3)\n",
      "Requirement already satisfied: six in c:\\bigdata\\anaconda3\\lib\\site-packages (from munch>=2.3.2->fiona>=1.8->geopandas) (1.14.0)\n",
      "Requirement already satisfied: colorama; platform_system == \"Windows\" in c:\\bigdata\\anaconda3\\lib\\site-packages (from click~=8.0->fiona>=1.8->geopandas) (0.4.3)\n",
      "Requirement already satisfied: zipp>=0.5 in c:\\bigdata\\anaconda3\\lib\\site-packages (from importlib-metadata; python_version < \"3.10\"->fiona>=1.8->geopandas) (2.2.0)\n",
      "Installing collected packages: click, click-plugins, cligj, munch, fiona, pyproj, shapely, geopandas\n",
      "  Attempting uninstall: click\n",
      "    Found existing installation: Click 7.0\n",
      "    Uninstalling Click-7.0:\n",
      "      Successfully uninstalled Click-7.0\n",
      "Successfully installed click-8.1.3 click-plugins-1.1.1 cligj-0.7.2 fiona-1.9.3 geopandas-0.10.2 munch-2.5.0 pyproj-3.2.1 shapely-2.0.1\n"
     ]
    }
   ],
   "source": [
    "import sys\n",
    "!{sys.executable} -m pip install geopandas"
   ]
  },
  {
   "cell_type": "code",
   "execution_count": null,
   "metadata": {},
   "outputs": [],
   "source": []
  }
 ],
 "metadata": {
  "kernelspec": {
   "display_name": "Python 3",
   "language": "python",
   "name": "python3"
  },
  "language_info": {
   "codemirror_mode": {
    "name": "ipython",
    "version": 3
   },
   "file_extension": ".py",
   "mimetype": "text/x-python",
   "name": "python",
   "nbconvert_exporter": "python",
   "pygments_lexer": "ipython3",
   "version": "3.7.6"
  }
 },
 "nbformat": 4,
 "nbformat_minor": 4
}
