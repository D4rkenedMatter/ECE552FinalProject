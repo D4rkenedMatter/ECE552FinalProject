{
 "cells": [
  {
   "cell_type": "code",
   "execution_count": null,
   "metadata": {},
   "outputs": [],
   "source": [
    "%run ./DataAggregation/DA_States.ipynb\n",
    "%run ./DataAggregation/DA_AstronomicalTwilight.ipynb\n",
    "%run ./DataAggregation/DA_CivilTwilight.ipynb\n",
    "%run ./DataAggregation/DA_NauticalTwilight.ipynb\n",
    "%run ./DataAggregation/DA_SunriseSunset.ipynb\n",
    "%run ./DataAggregation/DA_Severity.ipynb\n",
    "%run ./DataAggregation/DA_Side.ipynb\n",
    "%run ./DataAggregation/DA_Visibility.ipynb\n",
    "%run ./DataAggregation/DA_WeatherCondition.ipynb"
   ]
  },
  {
   "cell_type": "code",
   "execution_count": null,
   "metadata": {},
   "outputs": [],
   "source": []
  }
 ],
 "metadata": {
  "kernelspec": {
   "display_name": "Python 3",
   "language": "python",
   "name": "python3"
  },
  "language_info": {
   "codemirror_mode": {
    "name": "ipython",
    "version": 3
   },
   "file_extension": ".py",
   "mimetype": "text/x-python",
   "name": "python",
   "nbconvert_exporter": "python",
   "pygments_lexer": "ipython3",
   "version": "3.7.6"
  }
 },
 "nbformat": 4,
 "nbformat_minor": 4
}
