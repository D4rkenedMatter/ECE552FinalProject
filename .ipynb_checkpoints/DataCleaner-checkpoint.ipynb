{
 "cells": [
  {
   "cell_type": "code",
   "execution_count": null,
   "metadata": {},
   "outputs": [],
   "source": [
    "#Code to clean raw data\n",
    "import findspark\n",
    "findspark.init()\n",
    "import pyspark\n",
    "from pyspark.context import SparkContext\n",
    "from pyspark.sql import SparkSession\n",
    "sc = SparkContext.getOrCreate()\n",
    "spark = SparkSession \\\n",
    "    .builder \\\n",
    "    .appName(\"DataCleaner\") \\\n",
    "    .config(\"spark.mongodb.input.uri\", \"mongodb://127.0.0.1/ECE552FinalProject.TrafficData\") \\\n",
    "    .config(\"spark.mongodb.output.uri\", \"mongodb://127.0.0.1/ECE552FinalProject.TrafficData\") \\\n",
    "    .getOrCreate()"
   ]
  },
  {
   "cell_type": "code",
   "execution_count": null,
   "metadata": {},
   "outputs": [],
   "source": [
    "raw_df = spark.read.option(\"header\",\n",
    "\"true\").csv(\"C:/BigData/~data/US_Accidents_Dec21_updated.csv\")\n",
    "# Displays the content of the DataFrame\n",
    "print(raw_df.count())\n",
    "raw_df.show(3)\n",
    "raw_df.printSchema()"
   ]
  },
  {
   "cell_type": "code",
   "execution_count": null,
   "metadata": {},
   "outputs": [],
   "source": [
    "dropped_df = raw_df.drop(\"ID\")\n",
    "dropped_df = dropped_df.drop(\"Start_Lat\")\n",
    "dropped_df = dropped_df.drop(\"Start_Lng\")\n",
    "dropped_df = dropped_df.drop(\"End_Lat\")\n",
    "dropped_df = dropped_df.drop(\"End_Lng\")\n",
    "dropped_df = dropped_df.drop(\"Description\")\n",
    "dropped_df = dropped_df.drop(\"Zipcode\")\n",
    "dropped_df = dropped_df.drop(\"Country\")\n",
    "dropped_df = dropped_df.drop(\"Timezone\")\n",
    "dropped_df = dropped_df.drop(\"Airport_Code\")\n",
    "dropped_df = dropped_df.drop(\"Weather_Timestamp\")\n",
    "dropped_df = dropped_df.withColumnRenamed('Distance(mi)', 'Distance-mi')\n",
    "dropped_df = dropped_df.withColumnRenamed('Temperature(F)', 'Temperature-F')\n",
    "dropped_df = dropped_df.withColumnRenamed('Wind_Chill(F)', 'Wind_Chill-F')\n",
    "dropped_df = dropped_df.withColumnRenamed('Humidity(%)', 'Humidity%')\n",
    "dropped_df = dropped_df.withColumnRenamed('Pressure(in)', 'Pressure-in')\n",
    "dropped_df = dropped_df.withColumnRenamed('Visibility(mi)', 'Visibility-mi')\n",
    "dropped_df = dropped_df.withColumnRenamed('Wind_Speed(mph)', 'Wind_Speed-mph')\n",
    "dropped_df = dropped_df.withColumnRenamed('Precipitation(in)', 'Precipitation-in')\n",
    "# Displays the content of the DataFrame\n",
    "print(dropped_df.count())\n",
    "dropped_df.show(3)\n",
    "dropped_df.printSchema()"
   ]
  },
  {
   "cell_type": "code",
   "execution_count": null,
   "metadata": {},
   "outputs": [],
   "source": [
    "dropped_df.write.parquet(\"TrafficAccidentsData.parquet\")"
   ]
  },
  {
   "cell_type": "code",
   "execution_count": null,
   "metadata": {},
   "outputs": [],
   "source": [
    "dropped_df.write.format(\"mongo\").mode(\"overwrite\").save()"
   ]
  }
 ],
 "metadata": {
  "kernelspec": {
   "display_name": "Python 3",
   "language": "python",
   "name": "python3"
  },
  "language_info": {
   "codemirror_mode": {
    "name": "ipython",
    "version": 3
   },
   "file_extension": ".py",
   "mimetype": "text/x-python",
   "name": "python",
   "nbconvert_exporter": "python",
   "pygments_lexer": "ipython3",
   "version": "3.7.6"
  }
 },
 "nbformat": 4,
 "nbformat_minor": 4
}
