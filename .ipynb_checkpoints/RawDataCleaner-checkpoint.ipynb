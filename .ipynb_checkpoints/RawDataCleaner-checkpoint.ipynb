{
 "cells": [
  {
   "cell_type": "code",
   "execution_count": null,
   "metadata": {},
   "outputs": [],
   "source": [
    "%run ./ImportsConstantsSparkInit.ipynb\n",
    "SparkContext.getOrCreate().setJobGroup(\"DataCleaner\", \"DataCleaner\")"
   ]
  },
  {
   "cell_type": "code",
   "execution_count": null,
   "metadata": {},
   "outputs": [],
   "source": [
    "raw_df = spark.read.option(\"header\",\n",
    "\"true\").csv(\"C:/BigData/~data/US_Accidents_Dec21_updated.csv\")\n",
    "# Displays the content of the DataFrame\n",
    "#print(raw_df.count())\n",
    "#raw_df.show(3)\n",
    "#raw_df.printSchema()"
   ]
  },
  {
   "cell_type": "code",
   "execution_count": null,
   "metadata": {},
   "outputs": [],
   "source": [
    "dropped_df = raw_df.drop(\"ID\")\n",
    "dropped_df = dropped_df.drop(\"Severity\")\n",
    "dropped_df = dropped_df.drop(\"Distance(mi)\")\n",
    "dropped_df = dropped_df.drop(\"Number\")\n",
    "dropped_df = dropped_df.drop(\"Street\")\n",
    "dropped_df = dropped_df.drop(\"Side\")\n",
    "dropped_df = dropped_df.drop(\"City\")\n",
    "dropped_df = dropped_df.drop(\"County\")\n",
    "dropped_df = dropped_df.drop(\"Wind_Chill(F)\")\n",
    "dropped_df = dropped_df.drop(\"Humidity(%)\")\n",
    "dropped_df = dropped_df.drop(\"Pressure(in)\")\n",
    "dropped_df = dropped_df.drop(\"Wind_Direction\")\n",
    "dropped_df = dropped_df.drop(\"Wind_Speed(mph)\")\n",
    "dropped_df = dropped_df.drop(\"Weather_Condition\")\n",
    "dropped_df = dropped_df.drop(\"Start_Lat\")\n",
    "dropped_df = dropped_df.drop(\"Start_Lng\")\n",
    "dropped_df = dropped_df.drop(\"End_Time\")\n",
    "dropped_df = dropped_df.drop(\"End_Lat\")\n",
    "dropped_df = dropped_df.drop(\"End_Lng\")\n",
    "dropped_df = dropped_df.drop(\"Description\")\n",
    "dropped_df = dropped_df.drop(\"Zipcode\")\n",
    "dropped_df = dropped_df.drop(\"Country\")\n",
    "dropped_df = dropped_df.drop(\"Timezone\")\n",
    "dropped_df = dropped_df.drop(\"Airport_Code\")\n",
    "dropped_df = dropped_df.drop(\"Weather_Timestamp\")\n",
    "dropped_df = dropped_df.drop(\"Amenity\")\n",
    "dropped_df = dropped_df.drop(\"Bump\")\n",
    "dropped_df = dropped_df.drop(\"Crossing\")\n",
    "dropped_df = dropped_df.drop(\"Give_Way\")\n",
    "dropped_df = dropped_df.drop(\"Junction\")\n",
    "dropped_df = dropped_df.drop(\"No_Exit\")\n",
    "dropped_df = dropped_df.drop(\"Railway\")\n",
    "dropped_df = dropped_df.drop(\"Roundabout\")\n",
    "dropped_df = dropped_df.drop(\"Station\")\n",
    "dropped_df = dropped_df.drop(\"Stop\")\n",
    "dropped_df = dropped_df.drop(\"Traffic_Calming\")\n",
    "dropped_df = dropped_df.drop(\"Traffic_Signal\")\n",
    "dropped_df = dropped_df.drop(\"Turning_Loop\")\n",
    "dropped_df = dropped_df.drop(\"Sunrise_Sunset\")\n",
    "dropped_df = dropped_df.drop(\"Civil_Twilight\")\n",
    "dropped_df = dropped_df.drop(\"Nautical_Twilight\")\n",
    "dropped_df = dropped_df.drop(\"Astronomical_Twilight\")\n",
    "dropped_df = dropped_df.withColumnRenamed('Temperature(F)', 'Temperature-F')\n",
    "dropped_df = dropped_df.withColumnRenamed('Visibility(mi)', 'Visibility-mi')\n",
    "dropped_df = dropped_df.withColumnRenamed('Precipitation(in)', 'Precipitation-in')\n",
    "# Displays the content of the DataFrame\n",
    "print(dropped_df.count())\n",
    "dropped_df.printSchema()"
   ]
  },
  {
   "cell_type": "code",
   "execution_count": null,
   "metadata": {},
   "outputs": [],
   "source": [
    "dropped_df = dropped_df.withColumn(\"Start_Time\", to_timestamp(col(\"Start_Time\"),\"yyyy-MM-dd HH:mm:ss\"))\n",
    "dropped_df = dropped_df.withColumn(\"Temperature-F\", col(\"Temperature-F\").cast(\"double\"))\n",
    "dropped_df = dropped_df.withColumn(\"Precipitation-in\", col(\"Precipitation-in\").cast(\"double\"))\n",
    "dropped_df = dropped_df.withColumn(\"Visibility-mi\", col(\"Visibility-mi\").cast(\"double\"))\n",
    "dropped_df.printSchema()\n",
    "dropped_df.show()"
   ]
  },
  {
   "cell_type": "code",
   "execution_count": null,
   "metadata": {
    "scrolled": true
   },
   "outputs": [],
   "source": [
    "dropped_df.write.mode(\"overwrite\").parquet(\"TrafficAccidentsData.parquet\")"
   ]
  },
  {
   "cell_type": "code",
   "execution_count": null,
   "metadata": {},
   "outputs": [],
   "source": [
    "dropped_df.write.format(\"mongo\").option(\"collection\", \"TrafficData\").mode(\"overwrite\").save()"
   ]
  },
  {
   "cell_type": "code",
   "execution_count": null,
   "metadata": {},
   "outputs": [],
   "source": []
  }
 ],
 "metadata": {
  "kernelspec": {
   "display_name": "Python 3",
   "language": "python",
   "name": "python3"
  },
  "language_info": {
   "codemirror_mode": {
    "name": "ipython",
    "version": 3
   },
   "file_extension": ".py",
   "mimetype": "text/x-python",
   "name": "python",
   "nbconvert_exporter": "python",
   "pygments_lexer": "ipython3",
   "version": "3.7.6"
  }
 },
 "nbformat": 4,
 "nbformat_minor": 4
}
