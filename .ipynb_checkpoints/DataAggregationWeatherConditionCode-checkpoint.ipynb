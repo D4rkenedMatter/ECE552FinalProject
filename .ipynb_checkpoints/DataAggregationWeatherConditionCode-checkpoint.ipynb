{
 "cells": [
  {
   "cell_type": "code",
   "execution_count": 1,
   "metadata": {},
   "outputs": [],
   "source": [
    "import findspark\n",
    "findspark.init()\n",
    "import pyspark\n",
    "from pyspark.context import SparkContext\n",
    "from pyspark.sql import SparkSession\n",
    "sc = SparkContext.getOrCreate()\n",
    "spark = SparkSession \\\n",
    "    .builder \\\n",
    "    .appName(\"DataCleaner\") \\\n",
    "    .config(\"spark.mongodb.input.uri\", \"mongodb://127.0.0.1/ECE552FinalProject.TrafficData\") \\\n",
    "    .config(\"spark.mongodb.output.uri\", \"mongodb://127.0.0.1/ECE552FinalProject.TrafficData\") \\\n",
    "    .getOrCreate()"
   ]
  },
  {
   "cell_type": "code",
   "execution_count": 2,
   "metadata": {},
   "outputs": [
    {
     "name": "stdout",
     "output_type": "stream",
     "text": [
      "128\n",
      "+------------------+\n",
      "|sum(AccidentCount)|\n",
      "+------------------+\n",
      "|           2845342|\n",
      "+------------------+\n",
      "\n",
      "+--------------------+-------------+\n",
      "|    WeatherCondition|AccidentCount|\n",
      "+--------------------+-------------+\n",
      "|                null|        70636|\n",
      "|        Blowing Dust|          142|\n",
      "|Blowing Dust / Windy|          148|\n",
      "|        Blowing Sand|            1|\n",
      "|        Blowing Snow|          162|\n",
      "|Blowing Snow / Windy|           86|\n",
      "| Blowing Snow Nearby|            2|\n",
      "|               Clear|       173823|\n",
      "|              Cloudy|       348767|\n",
      "|      Cloudy / Windy|         6839|\n",
      "|       Drifting Snow|            1|\n",
      "|             Drizzle|         1705|\n",
      "|     Drizzle / Windy|            9|\n",
      "|     Drizzle and Fog|          133|\n",
      "|         Dust Whirls|            1|\n",
      "|           Duststorm|            2|\n",
      "|                Fair|      1107194|\n",
      "|        Fair / Windy|        15195|\n",
      "|                 Fog|        41226|\n",
      "|         Fog / Windy|          270|\n",
      "|    Freezing Drizzle|           11|\n",
      "|       Freezing Rain|           44|\n",
      "|Freezing Rain / W...|            2|\n",
      "|        Funnel Cloud|            2|\n",
      "|                Hail|            3|\n",
      "|                Haze|        36354|\n",
      "|        Haze / Windy|          563|\n",
      "|  Heavy Blowing Snow|            1|\n",
      "|       Heavy Drizzle|          140|\n",
      "|Heavy Freezing Dr...|            2|\n",
      "| Heavy Freezing Rain|            1|\n",
      "|   Heavy Ice Pellets|            2|\n",
      "|          Heavy Rain|        11824|\n",
      "|  Heavy Rain / Windy|          725|\n",
      "|   Heavy Rain Shower|            3|\n",
      "|Heavy Rain Shower...|            1|\n",
      "|  Heavy Rain Showers|            1|\n",
      "|         Heavy Sleet|           13|\n",
      "|          Heavy Snow|         1441|\n",
      "|  Heavy Snow / Windy|          210|\n",
      "|Heavy Snow with T...|            3|\n",
      "|       Heavy T-Storm|         3598|\n",
      "|Heavy T-Storm / W...|          382|\n",
      "|Heavy Thunderstor...|          510|\n",
      "|Heavy Thunderstor...|            3|\n",
      "|Heavy Thunderstor...|            1|\n",
      "|         Ice Pellets|           36|\n",
      "|  Light Blowing Snow|            2|\n",
      "|       Light Drizzle|         7041|\n",
      "+--------------------+-------------+\n",
      "only showing top 49 rows\n",
      "\n",
      "Wall time: 10.4 s\n"
     ]
    }
   ],
   "source": [
    "%%time\n",
    "pipeline = \"[{ $group : { _id : '$Weather_Condition', count:{$sum:1}}}, {$sort:{_id:1}}]\"\n",
    "df = spark.read.format(\"mongo\").option(\"pipeline\", pipeline).load()\n",
    "df = df.groupby(\"_id\").sum()\n",
    "df = df.withColumnRenamed(\"_id\",\"WeatherCondition\").withColumnRenamed(\"sum(count)\",\"AccidentCount\")\n",
    "df = df.orderBy(\"WeatherCondition\")\n",
    "print(\"Number of Documents: \" + str(df.count())\n",
    "df.agg({'AccidentCount': 'sum'}).show()\n",
    "df.show(49)"
   ]
  },
  {
   "cell_type": "code",
   "execution_count": 3,
   "metadata": {},
   "outputs": [],
   "source": [
    "df.write.format(\"mongo\").option(\"collection\", \"AccidentCountByWeatherCondition\").mode(\"overwrite\").save()"
   ]
  },
  {
   "cell_type": "code",
   "execution_count": null,
   "metadata": {},
   "outputs": [],
   "source": []
  }
 ],
 "metadata": {
  "kernelspec": {
   "display_name": "Python 3",
   "language": "python",
   "name": "python3"
  },
  "language_info": {
   "codemirror_mode": {
    "name": "ipython",
    "version": 3
   },
   "file_extension": ".py",
   "mimetype": "text/x-python",
   "name": "python",
   "nbconvert_exporter": "python",
   "pygments_lexer": "ipython3",
   "version": "3.7.6"
  }
 },
 "nbformat": 4,
 "nbformat_minor": 4
}
