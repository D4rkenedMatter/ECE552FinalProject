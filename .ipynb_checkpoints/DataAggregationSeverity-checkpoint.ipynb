{
 "cells": [
  {
   "cell_type": "code",
   "execution_count": 1,
   "metadata": {},
   "outputs": [],
   "source": [
    "import findspark\n",
    "findspark.init()\n",
    "import pyspark\n",
    "from pyspark.context import SparkContext\n",
    "from pyspark.sql import SparkSession\n",
    "sc = SparkContext.getOrCreate()\n",
    "spark = SparkSession \\\n",
    "    .builder \\\n",
    "    .appName(\"DataCleaner\") \\\n",
    "    .config(\"spark.mongodb.input.uri\", \"mongodb://127.0.0.1/ECE552FinalProject.TrafficData\") \\\n",
    "    .config(\"spark.mongodb.output.uri\", \"mongodb://127.0.0.1/ECE552FinalProject.TrafficData\") \\\n",
    "    .getOrCreate()"
   ]
  },
  {
   "cell_type": "code",
   "execution_count": 2,
   "metadata": {},
   "outputs": [
    {
     "name": "stdout",
     "output_type": "stream",
     "text": [
      "4\n",
      "+------------------+\n",
      "|sum(AccidentCount)|\n",
      "+------------------+\n",
      "|           2845342|\n",
      "+------------------+\n",
      "\n",
      "+----------------+-------------+\n",
      "|AccidentSeverity|AccidentCount|\n",
      "+----------------+-------------+\n",
      "|               1|        26053|\n",
      "|               2|      2532991|\n",
      "|               3|       155105|\n",
      "|               4|       131193|\n",
      "+----------------+-------------+\n",
      "\n",
      "Wall time: 4.59 s\n"
     ]
    }
   ],
   "source": [
    "%%time\n",
    "pipeline = \"[{ $group : { _id : '$Severity', count:{$sum:1}}}, {$sort:{_id:1}}]\"\n",
    "df = spark.read.format(\"mongo\").option(\"pipeline\", pipeline).load()\n",
    "df = df.groupby(\"_id\").sum()\n",
    "df = df.withColumnRenamed(\"_id\",\"AccidentSeverity\").withColumnRenamed(\"sum(count)\",\"AccidentCount\")\n",
    "df = df.orderBy(\"AccidentSeverity\")\n",
    "print(\"Number of Documents: \" + str(df.count())\n",
    "df.agg({'AccidentCount': 'sum'}).show()\n",
    "df.show(49)"
   ]
  },
  {
   "cell_type": "code",
   "execution_count": 3,
   "metadata": {},
   "outputs": [],
   "source": [
    "df.write.format(\"mongo\").option(\"collection\", \"AccidentCountBySeverity\").mode(\"overwrite\").save()"
   ]
  },
  {
   "cell_type": "code",
   "execution_count": null,
   "metadata": {},
   "outputs": [],
   "source": []
  }
 ],
 "metadata": {
  "kernelspec": {
   "display_name": "Python 3",
   "language": "python",
   "name": "python3"
  },
  "language_info": {
   "codemirror_mode": {
    "name": "ipython",
    "version": 3
   },
   "file_extension": ".py",
   "mimetype": "text/x-python",
   "name": "python",
   "nbconvert_exporter": "python",
   "pygments_lexer": "ipython3",
   "version": "3.7.6"
  }
 },
 "nbformat": 4,
 "nbformat_minor": 4
}
