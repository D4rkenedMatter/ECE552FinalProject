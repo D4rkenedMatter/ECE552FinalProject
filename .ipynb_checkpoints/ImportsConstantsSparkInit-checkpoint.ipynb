{
 "cells": [
  {
   "cell_type": "code",
   "execution_count": null,
   "metadata": {},
   "outputs": [],
   "source": [
    "import findspark\n",
    "import os\n",
    "import warnings\n",
    "warnings.simplefilter(action='ignore', category=FutureWarning)\n",
    "findspark.init()\n",
    "import pyspark\n",
    "from pyspark.context import SparkContext\n",
    "from pyspark.sql import SparkSession\n",
    "from pyspark.sql.functions import *\n",
    "import matplotlib.pyplot as plt\n",
    "import pandas as pd\n",
    "import geopandas as gpd\n",
    "from matplotlib.ticker import FormatStrFormatter, StrMethodFormatter\n",
    "spark = SparkSession \\\n",
    "    .builder \\\n",
    "    .appName(\"ECE552_FinalProject\") \\\n",
    "    .config(\"spark.driver.memory\", \"8g\") \\\n",
    "    .config(\"spark.mongodb.input.uri\", \"mongodb://127.0.0.1/ECE552FinalProject\") \\\n",
    "    .config(\"spark.mongodb.output.uri\", \"mongodb://127.0.0.1/ECE552FinalProject\") \\\n",
    "    .getOrCreate()\n",
    "sc = SparkContext.getOrCreate()\n",
    "spark.sparkContext._conf.getAll()\n",
    "\n",
    "print(\"Imports and Spark Initialized\")"
   ]
  },
  {
   "cell_type": "code",
   "execution_count": null,
   "metadata": {},
   "outputs": [],
   "source": [
    "carsPerHour_df = spark.read.option(\"header\",\"true\").csv(\"./carsPerHour.csv\")"
   ]
  },
  {
   "cell_type": "code",
   "execution_count": null,
   "metadata": {},
   "outputs": [],
   "source": [
    "driverLicense_df = spark.read.csv(\"./Licenses_Drivers_in_US_2021.csv\")"
   ]
  },
  {
   "cell_type": "code",
   "execution_count": null,
   "metadata": {},
   "outputs": [],
   "source": [
    "stateAbbrDict = {\n",
    "    \"Alabama\": \"AL\",\n",
    "    \"Alaska\": \"AK\",\n",
    "    \"Arizona\": \"AZ\",\n",
    "    \"Arkansas\": \"AR\",\n",
    "    \"California\": \"CA\",\n",
    "    \"Colorado\": \"CO\",\n",
    "    \"Connecticut\": \"CT\",\n",
    "    \"Delaware\": \"DE\",\n",
    "    \"Florida\": \"FL\",\n",
    "    \"Georgia\": \"GA\",\n",
    "    \"Hawaii\": \"HI\",\n",
    "    \"Idaho\": \"ID\",\n",
    "    \"Illinois\": \"IL\",\n",
    "    \"Indiana\": \"IN\",\n",
    "    \"Iowa\": \"IA\",\n",
    "    \"Kansas\": \"KS\",\n",
    "    \"Kentucky\": \"KY\",\n",
    "    \"Louisiana\": \"LA\",\n",
    "    \"Maine\": \"ME\",\n",
    "    \"Maryland\": \"MD\",\n",
    "    \"Massachusetts\": \"MA\",\n",
    "    \"Michigan\": \"MI\",\n",
    "    \"Minnesota\": \"MN\",\n",
    "    \"Mississippi\": \"MS\",\n",
    "    \"Missouri\": \"MO\",\n",
    "    \"Montana\": \"MT\",\n",
    "    \"Nebraska\": \"NE\",\n",
    "    \"Nevada\": \"NV\",\n",
    "    \"New Hampshire\": \"NH\",\n",
    "    \"New Jersey\": \"NJ\",\n",
    "    \"New Mexico\": \"NM\",\n",
    "    \"New York\": \"NY\",\n",
    "    \"North Carolina\": \"NC\",\n",
    "    \"North Dakota\": \"ND\",\n",
    "    \"Ohio\": \"OH\",\n",
    "    \"Oklahoma\": \"OK\",\n",
    "    \"Oregon\": \"OR\",\n",
    "    \"Pennsylvania\": \"PA\",\n",
    "    \"Rhode Island\": \"RI\",\n",
    "    \"South Carolina\": \"SC\",\n",
    "    \"South Dakota\": \"SD\",\n",
    "    \"Tennessee\": \"TN\",\n",
    "    \"Texas\": \"TX\",\n",
    "    \"Utah\": \"UT\",\n",
    "    \"Vermont\": \"VT\",\n",
    "    \"Virginia\": \"VA\",\n",
    "    \"Washington\": \"WA\",\n",
    "    \"West Virginia\": \"WV\",\n",
    "    \"Wisconsin\": \"WI\",\n",
    "    \"Wyoming\": \"WY\",\n",
    "    \"District of Columbia\": \"DC\",\n",
    "}"
   ]
  },
  {
   "cell_type": "code",
   "execution_count": null,
   "metadata": {},
   "outputs": [],
   "source": [
    "daysDict = {\n",
    "    '1' : 'Sunday',\n",
    "    '2' : 'Monday',\n",
    "    '3' : 'Tuesday',\n",
    "    '4' : 'Wednesday',\n",
    "    '5' : 'Thursday',\n",
    "    '6' : 'Friday',\n",
    "    '7' : 'Saturday'\n",
    "}"
   ]
  },
  {
   "cell_type": "code",
   "execution_count": null,
   "metadata": {},
   "outputs": [],
   "source": [
    "monthsDict = {\n",
    "    '1' : 'January',\n",
    "    '2' : 'February',\n",
    "    '3' : 'March',\n",
    "    '4' : 'April',\n",
    "    '5' : 'May',\n",
    "    '6' : 'June',\n",
    "    '7' : 'July',\n",
    "    '8' : 'August',\n",
    "    '9' : 'September',\n",
    "    '10' : 'October',\n",
    "    '11' : 'November',\n",
    "    '12' : 'December'\n",
    "}"
   ]
  },
  {
   "cell_type": "code",
   "execution_count": null,
   "metadata": {},
   "outputs": [],
   "source": [
    "hoursDict = {\n",
    "    '00' : '12-1 AM',\n",
    "    '01' : '1-2 AM',\n",
    "    '02' : '2-3 AM',\n",
    "    '03' : '3-4 AM',\n",
    "    '04' : '4-5 AM',\n",
    "    '05' : '5-6 AM',\n",
    "    '06' : '6-7 AM',\n",
    "    '07' : '7-8 AM',\n",
    "    '08' : '8-9 AM',\n",
    "    '09' : '9-10 AM',\n",
    "    '10' : '10-11 AM',\n",
    "    '11' : '11-12 PM',\n",
    "    '12' : '12-1 PM',\n",
    "    '13' : '1-2 PM',\n",
    "    '14' : '2-3 PM',\n",
    "    '15' : '3-4 PM',\n",
    "    '16' : '4-5 PM',\n",
    "    '17' : '5-6 PM',\n",
    "    '18' : '6-7 PM',\n",
    "    '19' : '7-8 PM',\n",
    "    '20' : '8-9 PM',\n",
    "    '21' : '9-10 PM',\n",
    "    '22' : '10-11 PM',\n",
    "    '23' : '11-12 AM'\n",
    "}"
   ]
  },
  {
   "cell_type": "code",
   "execution_count": null,
   "metadata": {},
   "outputs": [],
   "source": [
    "visibilityRangeDict = {\n",
    "    '0': \"0 to 1\",\n",
    "    '1': \"1 to 2\",\n",
    "    '2': \"2 to 3\",\n",
    "    '3': \"3 to 4\",\n",
    "    '4': \"4 to 5\",\n",
    "    '5': \"5 to 6\",\n",
    "    '6': \"6 to 7\",\n",
    "    '7': \"7 to 8\",\n",
    "    '8': \"8 to 9\",\n",
    "    '9': \"9 to 10\",\n",
    "    '10': \"10 Exact\",\n",
    "}"
   ]
  },
  {
   "cell_type": "code",
   "execution_count": null,
   "metadata": {},
   "outputs": [],
   "source": [
    "temperatureRangeDict = {\n",
    "    '-20': \"-20 to -10\",\n",
    "    '-10': \"-10 to 0\",\n",
    "    '0': \"0 to 10\",\n",
    "    '10': \"10 to 20\",\n",
    "    '20': \"20 to 30\",\n",
    "    '30': \"30 to 40\",\n",
    "    '40': \"40 to 50\",\n",
    "    '50': \"50 to 60\",\n",
    "    '60': \"60 to 70\",\n",
    "    '70': \"70 to 80\",\n",
    "    '80': \"80 to 90\",\n",
    "    '90': \"90 to 100\",\n",
    "    '100': \"100 to 110\",\n",
    "    '110': \"110 to 120\",\n",
    "    '120': \"120+\"\n",
    "}"
   ]
  },
  {
   "cell_type": "code",
   "execution_count": null,
   "metadata": {},
   "outputs": [],
   "source": [
    "precipitationRangeDict = {\n",
    "    '0.0': \"0 Exact\",\n",
    "    '1.0E-4': \"0+ to .1\",\n",
    "    '0.1': \".1 to .2\",\n",
    "    '0.2': \".2 to .3\",\n",
    "    '0.3': \".3 to .4\",\n",
    "    '0.4': \".4 to .5\",\n",
    "    '0.5': \".5 to 1\",\n",
    "    '1.0': \"1 to 2\",\n",
    "    '2.0': \"2 to 3\",\n",
    "    '3.0': \"3 to 7\",\n",
    "    '7.0': \"7 to 10\",\n",
    "    '10.0': \"10+\"\n",
    "}"
   ]
  },
  {
   "cell_type": "code",
   "execution_count": null,
   "metadata": {},
   "outputs": [],
   "source": [
    "print(\"Constants Created\")"
   ]
  }
 ],
 "metadata": {
  "kernelspec": {
   "display_name": "Python 3",
   "language": "python",
   "name": "python3"
  },
  "language_info": {
   "codemirror_mode": {
    "name": "ipython",
    "version": 3
   },
   "file_extension": ".py",
   "mimetype": "text/x-python",
   "name": "python",
   "nbconvert_exporter": "python",
   "pygments_lexer": "ipython3",
   "version": "3.7.6"
  }
 },
 "nbformat": 4,
 "nbformat_minor": 4
}
