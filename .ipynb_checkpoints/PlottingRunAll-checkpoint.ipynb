{
 "cells": [
  {
   "cell_type": "code",
   "execution_count": null,
   "metadata": {},
   "outputs": [],
   "source": [
    "%run ./DA_Covid.ipynb\n",
    "%run ./DA_DayOfWeek.ipynb\n",
    "%run ./DA_Hours.ipynb\n",
    "%run ./DA_Month.ipynb\n",
    "%run ./DA_Precipitation.ipynb\n",
    "%run ./DA_States.ipynb\n",
    "%run ./DA_Temperature.ipynb\n",
    "%run ./DA_Visibility.ipynb\n",
    "%run ./DA_Year.ipynb"
   ]
  },
  {
   "cell_type": "code",
   "execution_count": null,
   "metadata": {},
   "outputs": [],
   "source": [
    "print(\"All Plotting Finished\")"
   ]
  }
 ],
 "metadata": {
  "kernelspec": {
   "display_name": "Python 3",
   "language": "python",
   "name": "python3"
  },
  "language_info": {
   "codemirror_mode": {
    "name": "ipython",
    "version": 3
   },
   "file_extension": ".py",
   "mimetype": "text/x-python",
   "name": "python",
   "nbconvert_exporter": "python",
   "pygments_lexer": "ipython3",
   "version": "3.7.6"
  }
 },
 "nbformat": 4,
 "nbformat_minor": 4
}
