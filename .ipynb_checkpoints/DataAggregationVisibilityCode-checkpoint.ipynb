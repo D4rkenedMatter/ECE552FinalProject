{
 "cells": [
  {
   "cell_type": "code",
   "execution_count": 1,
   "metadata": {},
   "outputs": [],
   "source": [
    "import findspark\n",
    "findspark.init()\n",
    "import pyspark\n",
    "from pyspark.context import SparkContext\n",
    "from pyspark.sql import SparkSession\n",
    "sc = SparkContext.getOrCreate()\n",
    "spark = SparkSession \\\n",
    "    .builder \\\n",
    "    .appName(\"DataCleaner\") \\\n",
    "    .config(\"spark.mongodb.input.uri\", \"mongodb://127.0.0.1/ECE552FinalProject.TrafficData\") \\\n",
    "    .config(\"spark.mongodb.output.uri\", \"mongodb://127.0.0.1/ECE552FinalProject.TrafficData\") \\\n",
    "    .getOrCreate()"
   ]
  },
  {
   "cell_type": "code",
   "execution_count": 2,
   "metadata": {},
   "outputs": [
    {
     "name": "stdout",
     "output_type": "stream",
     "text": [
      "77\n",
      "+------------------+\n",
      "|sum(AccidentCount)|\n",
      "+------------------+\n",
      "|           2845342|\n",
      "+------------------+\n",
      "\n",
      "+------------------+-------------+\n",
      "|AccidentVisibility|AccidentCount|\n",
      "+------------------+-------------+\n",
      "|              null|        70546|\n",
      "|               0.0|         3238|\n",
      "|              0.06|          118|\n",
      "|               0.1|          268|\n",
      "|              0.12|          726|\n",
      "|              0.19|           12|\n",
      "|               0.2|         2870|\n",
      "|              0.25|        11359|\n",
      "|              0.38|          130|\n",
      "|               0.4|           25|\n",
      "|               0.5|        12290|\n",
      "|               0.6|           25|\n",
      "|              0.63|           82|\n",
      "|               0.7|            1|\n",
      "|              0.75|         8248|\n",
      "|               0.8|         2036|\n",
      "|              0.88|           61|\n",
      "|               0.9|           11|\n",
      "|              0.99|            6|\n",
      "|               1.0|        38445|\n",
      "|               1.1|           15|\n",
      "|               1.2|         1566|\n",
      "|               1.4|            8|\n",
      "|               1.5|         2448|\n",
      "|               1.6|            6|\n",
      "|               1.8|         1946|\n",
      "|               1.9|           11|\n",
      "|              10.0|      2230276|\n",
      "|              10.5|           10|\n",
      "|             100.0|           37|\n",
      "|              11.0|           48|\n",
      "|             110.0|            1|\n",
      "|             111.0|            1|\n",
      "|              12.0|          115|\n",
      "|             120.0|            4|\n",
      "|              13.0|         3116|\n",
      "|             130.0|            1|\n",
      "|              14.0|            4|\n",
      "|             140.0|            2|\n",
      "|              15.0|         2303|\n",
      "|              16.0|            1|\n",
      "|              19.0|            1|\n",
      "|               2.0|        46160|\n",
      "|               2.2|           19|\n",
      "|               2.5|         4337|\n",
      "|               2.8|           29|\n",
      "|              20.0|         1631|\n",
      "|              22.0|            2|\n",
      "|              23.0|            6|\n",
      "+------------------+-------------+\n",
      "only showing top 49 rows\n",
      "\n",
      "Wall time: 5.72 s\n"
     ]
    }
   ],
   "source": [
    "%%time\n",
    "pipeline = \"[{ $group : { _id : '$Visibility-mi', count:{$sum:1}}}, {$sort:{_id:1}}]\"\n",
    "df = spark.read.format(\"mongo\").option(\"pipeline\", pipeline).load()\n",
    "df = df.groupby(\"_id\").sum()\n",
    "df = df.withColumnRenamed(\"_id\",\"AccidentVisibility\").withColumnRenamed(\"sum(count)\",\"AccidentCount\")\n",
    "df = df.orderBy(\"AccidentVisibility\")\n",
    "print(\"Number of Documents: \" + str(df.count())\n",
    "df.agg({'AccidentCount': 'sum'}).show()\n",
    "df.show(49)"
   ]
  },
  {
   "cell_type": "code",
   "execution_count": 3,
   "metadata": {},
   "outputs": [],
   "source": [
    "df.write.format(\"mongo\").option(\"collection\", \"AccidentCountByVisibility\").mode(\"overwrite\").save()"
   ]
  },
  {
   "cell_type": "code",
   "execution_count": null,
   "metadata": {},
   "outputs": [],
   "source": []
  }
 ],
 "metadata": {
  "kernelspec": {
   "display_name": "Python 3",
   "language": "python",
   "name": "python3"
  },
  "language_info": {
   "codemirror_mode": {
    "name": "ipython",
    "version": 3
   },
   "file_extension": ".py",
   "mimetype": "text/x-python",
   "name": "python",
   "nbconvert_exporter": "python",
   "pygments_lexer": "ipython3",
   "version": "3.7.6"
  }
 },
 "nbformat": 4,
 "nbformat_minor": 4
}
