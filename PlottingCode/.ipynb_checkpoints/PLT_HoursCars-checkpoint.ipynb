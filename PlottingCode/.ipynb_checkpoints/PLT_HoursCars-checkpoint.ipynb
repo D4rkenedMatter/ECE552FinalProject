{
 "cells": [
  {
   "cell_type": "code",
   "execution_count": null,
   "metadata": {},
   "outputs": [],
   "source": [
    "%%capture\n",
    "%run ../ImportsConstantsSparkInit.ipynb\n",
    "sc.setJobGroup(\"PLT_HoursCars\", \"PLT_HoursCars\")"
   ]
  },
  {
   "cell_type": "code",
   "execution_count": null,
   "metadata": {},
   "outputs": [],
   "source": [
    "df = carsPerHour_df\n",
    "df = df.withColumn(\"Cars\",col(\"Cars\").cast(\"int\"))\n",
    "df = df.na.replace(hoursDict).toPandas()\n",
    "df = df.set_index('Hour')\n",
    "#display(df)"
   ]
  },
  {
   "cell_type": "code",
   "execution_count": null,
   "metadata": {},
   "outputs": [],
   "source": [
    "ax = df.plot.bar(y='Cars',rot=45, legend=False, figsize=(20,10))\n",
    "ax.set_xlabel(\"Hour\", fontsize=20)\n",
    "ax.set_ylabel(\"Cars\", fontsize=20)\n",
    "ax.set_title(\"Car Traffic By Hour\", fontsize = 25)\n",
    "ax.grid(color='grey', linestyle='dashed', linewidth=1, axis='y')\n",
    "ax.yaxis.set_major_formatter(StrMethodFormatter('{x:,}'))\n",
    "for p in ax.patches:\n",
    "    ax.annotate(str(p.get_height()), (p.get_x() * 1.005, p.get_height() * 1.005))"
   ]
  },
  {
   "cell_type": "code",
   "execution_count": null,
   "metadata": {},
   "outputs": [],
   "source": [
    "print(\"Plotting For Hours-Cars Finished\")"
   ]
  },
  {
   "cell_type": "code",
   "execution_count": null,
   "metadata": {},
   "outputs": [],
   "source": []
  }
 ],
 "metadata": {
  "kernelspec": {
   "display_name": "Python 3",
   "language": "python",
   "name": "python3"
  },
  "language_info": {
   "codemirror_mode": {
    "name": "ipython",
    "version": 3
   },
   "file_extension": ".py",
   "mimetype": "text/x-python",
   "name": "python",
   "nbconvert_exporter": "python",
   "pygments_lexer": "ipython3",
   "version": "3.7.6"
  }
 },
 "nbformat": 4,
 "nbformat_minor": 4
}
