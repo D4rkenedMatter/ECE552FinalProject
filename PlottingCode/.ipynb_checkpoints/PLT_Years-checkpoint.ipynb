{
 "cells": [
  {
   "cell_type": "code",
   "execution_count": 7,
   "metadata": {},
   "outputs": [],
   "source": [
    "%run ../ImportsConstantsSparkInit.ipynb\n",
    "sc.setJobGroup(\"PLT_Years\", \"PLT_Years\")"
   ]
  },
  {
   "cell_type": "code",
   "execution_count": 8,
   "metadata": {},
   "outputs": [
    {
     "name": "stdout",
     "output_type": "stream",
     "text": [
      "root\n",
      " |-- AccidentCount: long (nullable = true)\n",
      " |-- Year: string (nullable = true)\n",
      " |-- _id: struct (nullable = true)\n",
      " |    |-- oid: string (nullable = true)\n",
      "\n"
     ]
    }
   ],
   "source": [
    "pipeline = \"[{$set:{'Year':{$toString:'$Year'}}}{$sort:{'Year':1}}]\"\n",
    "df = spark.read.format(\"mongo\").option(\"collection\", \"AccidentCountByYear\").option(\"pipeline\", pipeline).load()\n",
    "df.printSchema()"
   ]
  },
  {
   "cell_type": "code",
   "execution_count": 9,
   "metadata": {},
   "outputs": [
    {
     "name": "stdout",
     "output_type": "stream",
     "text": [
      "+-------------+----+--------------------+\n",
      "|AccidentCount|Year|                 _id|\n",
      "+-------------+----+--------------------+\n",
      "|       121994|2016|[646001f8d32ca37c...|\n",
      "|       163913|2017|[646001f8d32ca37c...|\n",
      "|       163114|2018|[646001f8d32ca37c...|\n",
      "|       258526|2019|[646001f8d32ca37c...|\n",
      "|       624592|2020|[646001f8d32ca37c...|\n",
      "|      1512292|2021|[646001f8d32ca37c...|\n",
      "|          911|2022|[646001f8d32ca37c...|\n",
      "+-------------+----+--------------------+\n",
      "\n"
     ]
    }
   ],
   "source": [
    "df.show()\n",
    "df = df.toPandas()"
   ]
  },
  {
   "cell_type": "code",
   "execution_count": 10,
   "metadata": {},
   "outputs": [
    {
     "data": {
      "text/html": [
       "<div>\n",
       "<style scoped>\n",
       "    .dataframe tbody tr th:only-of-type {\n",
       "        vertical-align: middle;\n",
       "    }\n",
       "\n",
       "    .dataframe tbody tr th {\n",
       "        vertical-align: top;\n",
       "    }\n",
       "\n",
       "    .dataframe thead th {\n",
       "        text-align: right;\n",
       "    }\n",
       "</style>\n",
       "<table border=\"1\" class=\"dataframe\">\n",
       "  <thead>\n",
       "    <tr style=\"text-align: right;\">\n",
       "      <th></th>\n",
       "      <th>AccidentCount</th>\n",
       "      <th>_id</th>\n",
       "    </tr>\n",
       "    <tr>\n",
       "      <th>Year</th>\n",
       "      <th></th>\n",
       "      <th></th>\n",
       "    </tr>\n",
       "  </thead>\n",
       "  <tbody>\n",
       "    <tr>\n",
       "      <th>2016</th>\n",
       "      <td>121994</td>\n",
       "      <td>(646001f8d32ca37c8757e112,)</td>\n",
       "    </tr>\n",
       "    <tr>\n",
       "      <th>2017</th>\n",
       "      <td>163913</td>\n",
       "      <td>(646001f8d32ca37c8757e111,)</td>\n",
       "    </tr>\n",
       "    <tr>\n",
       "      <th>2018</th>\n",
       "      <td>163114</td>\n",
       "      <td>(646001f8d32ca37c8757e114,)</td>\n",
       "    </tr>\n",
       "    <tr>\n",
       "      <th>2019</th>\n",
       "      <td>258526</td>\n",
       "      <td>(646001f8d32ca37c8757e113,)</td>\n",
       "    </tr>\n",
       "    <tr>\n",
       "      <th>2020</th>\n",
       "      <td>624592</td>\n",
       "      <td>(646001f8d32ca37c8757e117,)</td>\n",
       "    </tr>\n",
       "    <tr>\n",
       "      <th>2021</th>\n",
       "      <td>1512292</td>\n",
       "      <td>(646001f8d32ca37c8757e115,)</td>\n",
       "    </tr>\n",
       "    <tr>\n",
       "      <th>2022</th>\n",
       "      <td>911</td>\n",
       "      <td>(646001f8d32ca37c8757e116,)</td>\n",
       "    </tr>\n",
       "  </tbody>\n",
       "</table>\n",
       "</div>"
      ],
      "text/plain": [
       "      AccidentCount                          _id\n",
       "Year                                            \n",
       "2016         121994  (646001f8d32ca37c8757e112,)\n",
       "2017         163913  (646001f8d32ca37c8757e111,)\n",
       "2018         163114  (646001f8d32ca37c8757e114,)\n",
       "2019         258526  (646001f8d32ca37c8757e113,)\n",
       "2020         624592  (646001f8d32ca37c8757e117,)\n",
       "2021        1512292  (646001f8d32ca37c8757e115,)\n",
       "2022            911  (646001f8d32ca37c8757e116,)"
      ]
     },
     "metadata": {},
     "output_type": "display_data"
    }
   ],
   "source": [
    "df = df.set_index('Year')\n",
    "display(df)"
   ]
  },
  {
   "cell_type": "code",
   "execution_count": 11,
   "metadata": {},
   "outputs": [
    {
     "data": {
      "image/png": "[encoded data removed]",
      "text/plain": [
       "<Figure size 720x720 with 1 Axes>"
      ]
     },
     "metadata": {
      "needs_background": "light"
     },
     "output_type": "display_data"
    }
   ],
   "source": [
    "ax = df.plot.bar(rot=45, legend=False, figsize=(10,10))\n",
    "ax.set_xlabel(\"Year\", fontsize=20)\n",
    "ax.set_ylabel(\"Accident Count\", fontsize=20)\n",
    "ax.set_title(\"Accident Count By Year\", fontsize = 25)\n",
    "ax.grid(color='grey', linestyle='dashed', linewidth=1, axis='y')\n",
    "ax.yaxis.set_major_formatter(StrMethodFormatter('{x:,}'))\n",
    "for p in ax.patches:\n",
    "    ax.annotate(str(p.get_height()), (p.get_x() * 1.005, p.get_height() * 1.005))"
   ]
  },
  {
   "cell_type": "code",
   "execution_count": null,
   "metadata": {},
   "outputs": [],
   "source": []
  }
 ],
 "metadata": {
  "kernelspec": {
   "display_name": "Python 3",
   "language": "python",
   "name": "python3"
  },
  "language_info": {
   "codemirror_mode": {
    "name": "ipython",
    "version": 3
   },
   "file_extension": ".py",
   "mimetype": "text/x-python",
   "name": "python",
   "nbconvert_exporter": "python",
   "pygments_lexer": "ipython3",
   "version": "3.7.6"
  }
 },
 "nbformat": 4,
 "nbformat_minor": 4
}
