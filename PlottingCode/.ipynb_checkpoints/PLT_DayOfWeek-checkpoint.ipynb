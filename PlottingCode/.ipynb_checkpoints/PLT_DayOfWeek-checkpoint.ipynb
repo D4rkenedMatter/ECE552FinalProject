{
 "cells": [
  {
   "cell_type": "code",
   "execution_count": null,
   "metadata": {},
   "outputs": [],
   "source": [
    "%run ../ImportsConstantsSparkInit.ipynb\n",
    "sc.setJobGroup(\"PLT_DayOfWeek\", \"PLT_DayOfWeek\")"
   ]
  },
  {
   "cell_type": "code",
   "execution_count": null,
   "metadata": {},
   "outputs": [],
   "source": [
    "pipeline = \"[{$set:{'DayOfWeek':{$toString:'$DayOfWeek'}}},{$sort:{'DayOfWeek':1}}]\"\n",
    "df = spark.read.format(\"mongo\").option(\"collection\", \"AccidentCountByDayOfWeek\").option(\"pipeline\", pipeline).load()\n",
    "df.printSchema()"
   ]
  },
  {
   "cell_type": "code",
   "execution_count": null,
   "metadata": {},
   "outputs": [],
   "source": [
    "df = df.na.replace(daysDict)\n",
    "df.show()\n",
    "df = df.toPandas()"
   ]
  },
  {
   "cell_type": "code",
   "execution_count": null,
   "metadata": {},
   "outputs": [],
   "source": [
    "df = df.set_index('DayOfWeek')\n",
    "display(df)"
   ]
  },
  {
   "cell_type": "code",
   "execution_count": null,
   "metadata": {},
   "outputs": [],
   "source": [
    "ax = df.plot.bar(rot=45, legend=False, figsize=(10,10))\n",
    "ax.set_xlabel(\"Day of Week\", fontsize=20)\n",
    "ax.set_ylabel(\"Accident Count\", fontsize=20)\n",
    "ax.set_title(\"Accident Count By Day of Week\", fontsize = 25)\n",
    "ax.grid(color='grey', linestyle='dashed', linewidth=1, axis='y')\n",
    "ax.yaxis.set_major_formatter(StrMethodFormatter('{x:,}'))\n",
    "for p in ax.patches:\n",
    "    ax.annotate(str(p.get_height()), (p.get_x() * 1.005, p.get_height() * 1.005))"
   ]
  },
  {
   "cell_type": "code",
   "execution_count": null,
   "metadata": {},
   "outputs": [],
   "source": []
  }
 ],
 "metadata": {
  "kernelspec": {
   "display_name": "Python 3",
   "language": "python",
   "name": "python3"
  },
  "language_info": {
   "codemirror_mode": {
    "name": "ipython",
    "version": 3
   },
   "file_extension": ".py",
   "mimetype": "text/x-python",
   "name": "python",
   "nbconvert_exporter": "python",
   "pygments_lexer": "ipython3",
   "version": "3.7.6"
  }
 },
 "nbformat": 4,
 "nbformat_minor": 4
}
