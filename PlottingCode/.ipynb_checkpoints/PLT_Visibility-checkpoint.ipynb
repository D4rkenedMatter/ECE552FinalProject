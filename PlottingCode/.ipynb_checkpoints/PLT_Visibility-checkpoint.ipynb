{
 "cells": [
  {
   "cell_type": "code",
   "execution_count": null,
   "metadata": {},
   "outputs": [],
   "source": [
    "%%capture\n",
    "%run ../ImportsConstantsSparkInit.ipynb\n",
    "sc.setJobGroup(\"PLT_Visibility\", \"PLT_Visibility\")"
   ]
  },
  {
   "cell_type": "code",
   "execution_count": null,
   "metadata": {},
   "outputs": [],
   "source": [
    "df = spark.read.format(\"mongo\").option(\"collection\", \"AccidentCountByVisibility\").load()\n",
    "df = df.orderBy(\"Visibility\")\n",
    "df = df.withColumn(\"Visibility\",col(\"Visibility\").cast(\"string\"))\n",
    "df = df.na.replace(visibilityRangeDict, subset=\"Visibility\")\n",
    "#df.printSchema()\n",
    "#df.show()"
   ]
  },
  {
   "cell_type": "code",
   "execution_count": null,
   "metadata": {},
   "outputs": [],
   "source": [
    "df = df.toPandas()"
   ]
  },
  {
   "cell_type": "code",
   "execution_count": null,
   "metadata": {},
   "outputs": [],
   "source": [
    "df = df.set_index('Visibility')\n",
    "#display(df)"
   ]
  },
  {
   "cell_type": "code",
   "execution_count": null,
   "metadata": {},
   "outputs": [],
   "source": [
    "ax = df.plot.bar(rot=45, legend=False, figsize=(10,10))\n",
    "ax.set_xlabel(\"Visibility Range (mi)\", fontsize=20)\n",
    "ax.set_ylabel(\"Accident Count\", fontsize=20)\n",
    "ax.set_title(\"Accident Count By Visibility Range\", fontsize = 25)\n",
    "ax.grid(color='grey', linestyle='dashed', linewidth=1, axis='y')\n",
    "ax.yaxis.set_major_formatter(StrMethodFormatter('{x:,}'))\n",
    "for p in ax.patches:\n",
    "    ax.annotate(str(p.get_height()), (p.get_x() * 1.005, p.get_height() * 1.005))"
   ]
  },
  {
   "cell_type": "code",
   "execution_count": null,
   "metadata": {},
   "outputs": [],
   "source": [
    "df = df.drop(\"10 Exact\")\n",
    "ax = df.plot.bar(rot=45, legend=False, figsize=(10,10))\n",
    "ax.set_xlabel(\"Visibility Range (mi)\", fontsize=20)\n",
    "ax.set_ylabel(\"Accident Count\", fontsize=20)\n",
    "ax.set_title(\"Accident Count By Visibility Range\", fontsize = 25)\n",
    "ax.grid(color='grey', linestyle='dashed', linewidth=1, axis='y')\n",
    "ax.yaxis.set_major_formatter(StrMethodFormatter('{x:,}'))\n",
    "for p in ax.patches:\n",
    "    ax.annotate(str(p.get_height()), (p.get_x() * 1.005, p.get_height() * 1.005))"
   ]
  },
  {
   "cell_type": "code",
   "execution_count": null,
   "metadata": {},
   "outputs": [],
   "source": [
    "print(\"Plotting For Visiblity Finished\")"
   ]
  }
 ],
 "metadata": {
  "kernelspec": {
   "display_name": "Python 3",
   "language": "python",
   "name": "python3"
  },
  "language_info": {
   "codemirror_mode": {
    "name": "ipython",
    "version": 3
   },
   "file_extension": ".py",
   "mimetype": "text/x-python",
   "name": "python",
   "nbconvert_exporter": "python",
   "pygments_lexer": "ipython3",
   "version": "3.7.6"
  }
 },
 "nbformat": 4,
 "nbformat_minor": 4
}
