{
 "cells": [
  {
   "cell_type": "code",
   "execution_count": 35,
   "metadata": {},
   "outputs": [],
   "source": [
    "%run ../ImportsConstantsSparkInit.ipynb\n",
    "sc.setJobGroup(\"PLT_Months\", \"PLT_Months\")"
   ]
  },
  {
   "cell_type": "code",
   "execution_count": 36,
   "metadata": {},
   "outputs": [
    {
     "name": "stdout",
     "output_type": "stream",
     "text": [
      "root\n",
      " |-- AccidentCount: long (nullable = true)\n",
      " |-- Month: string (nullable = true)\n",
      " |-- _id: struct (nullable = true)\n",
      " |    |-- oid: string (nullable = true)\n",
      "\n",
      "+-------------+-----+--------------------+\n",
      "|AccidentCount|Month|                 _id|\n",
      "+-------------+-----+--------------------+\n",
      "|       199607|    1|[646001f4d32ca37c...|\n",
      "|       195764|    2|[646001f4d32ca37c...|\n",
      "|       158474|    3|[646001f4d32ca37c...|\n",
      "|       171803|    4|[646001f4d32ca37c...|\n",
      "|       181854|    5|[646001f4d32ca37c...|\n",
      "|       226574|    6|[646001f4d32ca37c...|\n",
      "|       158997|    7|[646001f4d32ca37c...|\n",
      "|       178674|    8|[646001f4d32ca37c...|\n",
      "|       241924|    9|[646001f4d32ca37c...|\n",
      "|       298563|   10|[646001f4d32ca37c...|\n",
      "|       359691|   11|[646001f4d32ca37c...|\n",
      "|       473417|   12|[646001f4d32ca37c...|\n",
      "+-------------+-----+--------------------+\n",
      "\n"
     ]
    }
   ],
   "source": [
    "pipeline = \"[{$sort:{'Month':1}},{$set:{'Month':{$toString:'$Month'}}},]\"\n",
    "df = spark.read.format(\"mongo\").option(\"collection\", \"AccidentCountByMonth\").option(\"pipeline\", pipeline).load()\n",
    "df.printSchema()\n",
    "df.show()"
   ]
  },
  {
   "cell_type": "code",
   "execution_count": 37,
   "metadata": {},
   "outputs": [
    {
     "name": "stdout",
     "output_type": "stream",
     "text": [
      "+-------------+---------+--------------------+\n",
      "|AccidentCount|    Month|                 _id|\n",
      "+-------------+---------+--------------------+\n",
      "|       199607|  January|[646001f4d32ca37c...|\n",
      "|       195764| February|[646001f4d32ca37c...|\n",
      "|       158474|    March|[646001f4d32ca37c...|\n",
      "|       171803|    April|[646001f4d32ca37c...|\n",
      "|       181854|      May|[646001f4d32ca37c...|\n",
      "|       226574|     June|[646001f4d32ca37c...|\n",
      "|       158997|     July|[646001f4d32ca37c...|\n",
      "|       178674|   August|[646001f4d32ca37c...|\n",
      "|       241924|September|[646001f4d32ca37c...|\n",
      "|       298563|  October|[646001f4d32ca37c...|\n",
      "|       359691| November|[646001f4d32ca37c...|\n",
      "|       473417| December|[646001f4d32ca37c...|\n",
      "+-------------+---------+--------------------+\n",
      "\n"
     ]
    }
   ],
   "source": [
    "df = df.na.replace(monthsDict)\n",
    "df.show()\n",
    "df = df.toPandas()"
   ]
  },
  {
   "cell_type": "code",
   "execution_count": 38,
   "metadata": {},
   "outputs": [
    {
     "data": {
      "text/html": [
       "<div>\n",
       "<style scoped>\n",
       "    .dataframe tbody tr th:only-of-type {\n",
       "        vertical-align: middle;\n",
       "    }\n",
       "\n",
       "    .dataframe tbody tr th {\n",
       "        vertical-align: top;\n",
       "    }\n",
       "\n",
       "    .dataframe thead th {\n",
       "        text-align: right;\n",
       "    }\n",
       "</style>\n",
       "<table border=\"1\" class=\"dataframe\">\n",
       "  <thead>\n",
       "    <tr style=\"text-align: right;\">\n",
       "      <th></th>\n",
       "      <th>AccidentCount</th>\n",
       "      <th>_id</th>\n",
       "    </tr>\n",
       "    <tr>\n",
       "      <th>Month</th>\n",
       "      <th></th>\n",
       "      <th></th>\n",
       "    </tr>\n",
       "  </thead>\n",
       "  <tbody>\n",
       "    <tr>\n",
       "      <th>January</th>\n",
       "      <td>199607</td>\n",
       "      <td>(646001f4d32ca37c8757e10c,)</td>\n",
       "    </tr>\n",
       "    <tr>\n",
       "      <th>February</th>\n",
       "      <td>195764</td>\n",
       "      <td>(646001f4d32ca37c8757e10f,)</td>\n",
       "    </tr>\n",
       "    <tr>\n",
       "      <th>March</th>\n",
       "      <td>158474</td>\n",
       "      <td>(646001f4d32ca37c8757e10a,)</td>\n",
       "    </tr>\n",
       "    <tr>\n",
       "      <th>April</th>\n",
       "      <td>171803</td>\n",
       "      <td>(646001f4d32ca37c8757e10d,)</td>\n",
       "    </tr>\n",
       "    <tr>\n",
       "      <th>May</th>\n",
       "      <td>181854</td>\n",
       "      <td>(646001f4d32ca37c8757e107,)</td>\n",
       "    </tr>\n",
       "    <tr>\n",
       "      <th>June</th>\n",
       "      <td>226574</td>\n",
       "      <td>(646001f4d32ca37c8757e10b,)</td>\n",
       "    </tr>\n",
       "    <tr>\n",
       "      <th>July</th>\n",
       "      <td>158997</td>\n",
       "      <td>(646001f4d32ca37c8757e105,)</td>\n",
       "    </tr>\n",
       "    <tr>\n",
       "      <th>August</th>\n",
       "      <td>178674</td>\n",
       "      <td>(646001f4d32ca37c8757e108,)</td>\n",
       "    </tr>\n",
       "    <tr>\n",
       "      <th>September</th>\n",
       "      <td>241924</td>\n",
       "      <td>(646001f4d32ca37c8757e106,)</td>\n",
       "    </tr>\n",
       "    <tr>\n",
       "      <th>October</th>\n",
       "      <td>298563</td>\n",
       "      <td>(646001f4d32ca37c8757e110,)</td>\n",
       "    </tr>\n",
       "    <tr>\n",
       "      <th>November</th>\n",
       "      <td>359691</td>\n",
       "      <td>(646001f4d32ca37c8757e10e,)</td>\n",
       "    </tr>\n",
       "    <tr>\n",
       "      <th>December</th>\n",
       "      <td>473417</td>\n",
       "      <td>(646001f4d32ca37c8757e109,)</td>\n",
       "    </tr>\n",
       "  </tbody>\n",
       "</table>\n",
       "</div>"
      ],
      "text/plain": [
       "           AccidentCount                          _id\n",
       "Month                                                \n",
       "January           199607  (646001f4d32ca37c8757e10c,)\n",
       "February          195764  (646001f4d32ca37c8757e10f,)\n",
       "March             158474  (646001f4d32ca37c8757e10a,)\n",
       "April             171803  (646001f4d32ca37c8757e10d,)\n",
       "May               181854  (646001f4d32ca37c8757e107,)\n",
       "June              226574  (646001f4d32ca37c8757e10b,)\n",
       "July              158997  (646001f4d32ca37c8757e105,)\n",
       "August            178674  (646001f4d32ca37c8757e108,)\n",
       "September         241924  (646001f4d32ca37c8757e106,)\n",
       "October           298563  (646001f4d32ca37c8757e110,)\n",
       "November          359691  (646001f4d32ca37c8757e10e,)\n",
       "December          473417  (646001f4d32ca37c8757e109,)"
      ]
     },
     "metadata": {},
     "output_type": "display_data"
    }
   ],
   "source": [
    "df = df.set_index('Month')\n",
    "display(df)"
   ]
  },
  {
   "cell_type": "code",
   "execution_count": 39,
   "metadata": {},
   "outputs": [
    {
     "data": {
      "image/png": "[encoded data removed]",
      "text/plain": [
       "<Figure size 720x720 with 1 Axes>"
      ]
     },
     "metadata": {
      "needs_background": "light"
     },
     "output_type": "display_data"
    }
   ],
   "source": [
    "ax = df.plot.bar(rot=45, legend=False, figsize=(10,10))\n",
    "ax.set_xlabel(\"Month\", fontsize=20)\n",
    "ax.set_ylabel(\"Accident Count\", fontsize=20)\n",
    "ax.set_title(\"Accident Count By Month\", fontsize = 25)\n",
    "ax.grid(color='grey', linestyle='dashed', linewidth=1, axis='y')\n",
    "ax.yaxis.set_major_formatter(StrMethodFormatter('{x:,}'))\n",
    "for p in ax.patches:\n",
    "    ax.annotate(str(p.get_height()), (p.get_x() * 1.005, p.get_height() * 1.005))"
   ]
  },
  {
   "cell_type": "code",
   "execution_count": null,
   "metadata": {},
   "outputs": [],
   "source": []
  }
 ],
 "metadata": {
  "kernelspec": {
   "display_name": "Python 3",
   "language": "python",
   "name": "python3"
  },
  "language_info": {
   "codemirror_mode": {
    "name": "ipython",
    "version": 3
   },
   "file_extension": ".py",
   "mimetype": "text/x-python",
   "name": "python",
   "nbconvert_exporter": "python",
   "pygments_lexer": "ipython3",
   "version": "3.7.6"
  }
 },
 "nbformat": 4,
 "nbformat_minor": 4
}
