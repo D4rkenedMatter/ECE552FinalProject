{
 "cells": [
  {
   "cell_type": "code",
   "execution_count": null,
   "metadata": {},
   "outputs": [],
   "source": [
    "%run ./PLT_Hours.ipynb\n",
    "%run ./PLT_HoursCars.ipynb\n",
    "%run ./PLT_HoursWeighted.ipynb\n",
    "%run ./PLT_DayOfWeek.ipynb\n",
    "%run ./PLT_Months.ipynb\n",
    "%run ./PLT_Years.ipynb\n",
    "%run ./PLT_Covid.ipynb\n",
    "%run ./PLT_StatesTotal.ipynb\n",
    "%run ./PLT_StatesLicense.ipynb\n",
    "%run ./PLT_StatesLicense2021.ipynb\n",
    "%run ./PLT_Temperature.ipynb\n",
    "%run ./PLT_Precipitation.ipynb\n",
    "%run ./PLT_Visibility.ipynb"
   ]
  },
  {
   "cell_type": "code",
   "execution_count": null,
   "metadata": {},
   "outputs": [],
   "source": [
    "print(\"All Plotting Finished\")"
   ]
  }
 ],
 "metadata": {
  "kernelspec": {
   "display_name": "Python 3",
   "language": "python",
   "name": "python3"
  },
  "language_info": {
   "codemirror_mode": {
    "name": "ipython",
    "version": 3
   },
   "file_extension": ".py",
   "mimetype": "text/x-python",
   "name": "python",
   "nbconvert_exporter": "python",
   "pygments_lexer": "ipython3",
   "version": "3.7.6"
  }
 },
 "nbformat": 4,
 "nbformat_minor": 4
}
