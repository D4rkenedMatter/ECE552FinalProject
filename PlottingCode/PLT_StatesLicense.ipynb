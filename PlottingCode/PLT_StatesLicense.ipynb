{
 "cells": [
  {
   "cell_type": "code",
   "execution_count": null,
   "metadata": {},
   "outputs": [],
   "source": [
    "%run ../ImportsConstantsSparkInit.ipynb\n",
    "sc.setJobGroup(\"PLT_StatesLicense\", \"PLT_StatesLicense\")"
   ]
  },
  {
   "cell_type": "code",
   "execution_count": null,
   "metadata": {},
   "outputs": [],
   "source": [
    "driverLicense_df = spark.read.csv(\"./Licenses_Drivers_in_US_2021.csv\")\n",
    "# Displays the content of the DataFrame\n",
    "print(driverLicense_df.count())\n",
    "driverLicense_df = driverLicense_df.withColumnRenamed(\"_c0\",\"State\").withColumnRenamed(\"_c1\",\"NumLicenses\")\n",
    "driverLicense_df = driverLicense_df.na.replace(stateAbbrDict)\n",
    "driverLicense_df = driverLicense_df.withColumn(\"NumLicenses\",col(\"NumLicenses\").cast(\"int\")).toPandas()\n",
    "#display(driverLicense_df)"
   ]
  },
  {
   "cell_type": "code",
   "execution_count": null,
   "metadata": {},
   "outputs": [],
   "source": [
    "stateAcc_df = spark.read.format(\"mongo\").option(\"collection\", \"AccidentCountByState\").load().toPandas()\n",
    "stateAcc_df = stateAcc_df.merge(driverLicense_df, left_on=\"State\", right_on=\"State\")\n",
    "stateAcc_df[\"AccidentsByLicensesRaw\"] = stateAcc_df[\"AccidentCount\"]/stateAcc_df[\"NumLicenses\"]\n",
    "stateAcc_df[\"AccidentsPer100kLicenses\"] = stateAcc_df[\"AccidentsByLicensesRaw\"]*100000\n",
    "stateAcc_df = stateAcc_df.sort_values('AccidentsPer100kLicenses', ascending=False)\n",
    "display(stateAcc_df)"
   ]
  },
  {
   "cell_type": "code",
   "execution_count": null,
   "metadata": {},
   "outputs": [],
   "source": [
    "path = \"./tl_2022_us_state/tl_2022_us_state.shp\"\n",
    "df = gpd.read_file(path)\n",
    "df = df.to_crs(\"EPSG:4326\")\n",
    "df = df.merge(stateAcc_df, left_on=\"STUSPS\", right_on=\"State\")\n",
    "df = df.drop(\"State\", 1)\n",
    "display(df)\n",
    "#df.info()"
   ]
  },
  {
   "cell_type": "code",
   "execution_count": null,
   "metadata": {},
   "outputs": [],
   "source": [
    "non_continental = ['HI','VI','MP','GU','AK','AS','PR']\n",
    "us49 = df\n",
    "for n in non_continental:\n",
    "    us49 = us49[us49.STUSPS != n]"
   ]
  },
  {
   "cell_type": "code",
   "execution_count": null,
   "metadata": {},
   "outputs": [],
   "source": [
    "fig = plt.figure(1, figsize=(25,15)) \n",
    "ax = fig.add_subplot()\n",
    "us49.plot(ax=ax, column=\"AccidentsPer100kLicenses\", cmap=\"plasma\", legend=True, figsize=(25,15), legend_kwds={\"shrink\":.7})\n",
    "us49.boundary.plot(ax=ax, color='Black', linewidth=1)\n",
    "us49.apply(lambda x: ax.annotate(s=x.STUSPS, xy=x.geometry.centroid.coords[0], ha='center', fontsize=14),axis=1);\n",
    "ax.set_title(\"Accident Rate Per 100,000 Licenses\", fontsize=30)\n",
    "ax.set_xlabel(\"Longitude\", fontsize=20)\n",
    "ax.set_ylabel(\"Latitude\", fontsize=20)\n",
    "cb_ax = fig.axes[1]\n",
    "cb_ax.tick_params(labelsize=15)"
   ]
  },
  {
   "cell_type": "code",
   "execution_count": null,
   "metadata": {},
   "outputs": [],
   "source": []
  }
 ],
 "metadata": {
  "kernelspec": {
   "display_name": "Python 3",
   "language": "python",
   "name": "python3"
  },
  "language_info": {
   "codemirror_mode": {
    "name": "ipython",
    "version": 3
   },
   "file_extension": ".py",
   "mimetype": "text/x-python",
   "name": "python",
   "nbconvert_exporter": "python",
   "pygments_lexer": "ipython3",
   "version": "3.7.6"
  }
 },
 "nbformat": 4,
 "nbformat_minor": 4
}
