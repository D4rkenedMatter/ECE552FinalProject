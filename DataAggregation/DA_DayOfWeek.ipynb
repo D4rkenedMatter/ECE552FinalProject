{
 "cells": [
  {
   "cell_type": "code",
   "execution_count": 1,
   "metadata": {},
   "outputs": [],
   "source": [
    "%run ../ImportsConstantsSparkInit.ipynb\n",
    "sc.setJobGroup(\"DA_DayOfWeek\", \"DA_DayOfWeek\")"
   ]
  },
  {
   "cell_type": "code",
   "execution_count": 2,
   "metadata": {},
   "outputs": [
    {
     "name": "stdout",
     "output_type": "stream",
     "text": [
      "Number of Documents: 7\n",
      "+------------------+\n",
      "|sum(AccidentCount)|\n",
      "+------------------+\n",
      "|           2845342|\n",
      "+------------------+\n",
      "\n",
      "+---------+-------------+\n",
      "|DayOfWeek|AccidentCount|\n",
      "+---------+-------------+\n",
      "|        1|       268985|\n",
      "|        6|       484472|\n",
      "|        3|       442743|\n",
      "|        5|       461044|\n",
      "|        4|       451940|\n",
      "|        7|       319940|\n",
      "|        2|       416218|\n",
      "+---------+-------------+\n",
      "\n",
      "Wall time: 7.01 s\n"
     ]
    }
   ],
   "source": [
    "%%time\n",
    "pipeline = \"[{ $group : { _id :{$dayOfWeek:{date:'$Start_Time'}}, count:{$sum:1}}}]\"\n",
    "df = spark.read.format(\"mongo\").option(\"collection\", \"TrafficData\").option(\"pipeline\", pipeline).load()\n",
    "df = df.groupby(\"_id\").sum(\"count\")\n",
    "df = df.withColumnRenamed(\"_id\",\"DayOfWeek\").withColumnRenamed(\"sum(count)\",\"AccidentCount\")\n",
    "print(\"Number of Documents: \" + str(df.count()))\n",
    "df.agg({'AccidentCount': 'sum'}).show()\n",
    "df.show(49)"
   ]
  },
  {
   "cell_type": "code",
   "execution_count": 3,
   "metadata": {},
   "outputs": [],
   "source": [
    "df.write.format(\"mongo\").option(\"collection\", \"AccidentCountByDayOfWeek\").mode(\"overwrite\").save()"
   ]
  },
  {
   "cell_type": "code",
   "execution_count": null,
   "metadata": {},
   "outputs": [],
   "source": []
  }
 ],
 "metadata": {
  "kernelspec": {
   "display_name": "Python 3",
   "language": "python",
   "name": "python3"
  },
  "language_info": {
   "codemirror_mode": {
    "name": "ipython",
    "version": 3
   },
   "file_extension": ".py",
   "mimetype": "text/x-python",
   "name": "python",
   "nbconvert_exporter": "python",
   "pygments_lexer": "ipython3",
   "version": "3.7.6"
  }
 },
 "nbformat": 4,
 "nbformat_minor": 4
}
