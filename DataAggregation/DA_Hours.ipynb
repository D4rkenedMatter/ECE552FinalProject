{
 "cells": [
  {
   "cell_type": "code",
   "execution_count": 3,
   "metadata": {},
   "outputs": [],
   "source": [
    "%run ../ImportsConstantsSparkInit.ipynb\n",
    "sc.setJobGroup(\"DA_Hours\", \"DA_Hours\")"
   ]
  },
  {
   "cell_type": "code",
   "execution_count": 4,
   "metadata": {
    "scrolled": true
   },
   "outputs": [
    {
     "name": "stdout",
     "output_type": "stream",
     "text": [
      "Number of Documents: 24\n",
      "+------------------+\n",
      "|sum(AccidentCount)|\n",
      "+------------------+\n",
      "|           2845342|\n",
      "+------------------+\n",
      "\n",
      "+----+-------------+\n",
      "|Hour|AccidentCount|\n",
      "+----+-------------+\n",
      "|  00|       104143|\n",
      "|  01|        89545|\n",
      "|  02|        81704|\n",
      "|  03|        75138|\n",
      "|  04|        70740|\n",
      "|  05|        60245|\n",
      "|  06|        59218|\n",
      "|  07|        55371|\n",
      "|  08|        52401|\n",
      "|  09|        71108|\n",
      "|  10|        99071|\n",
      "|  11|       127905|\n",
      "|  12|       133314|\n",
      "|  13|       118336|\n",
      "|  14|       105461|\n",
      "|  15|       110452|\n",
      "|  16|       131412|\n",
      "|  17|       151621|\n",
      "|  18|       182674|\n",
      "|  19|       209736|\n",
      "|  20|       220530|\n",
      "|  21|       212802|\n",
      "|  22|       183146|\n",
      "|  23|       139269|\n",
      "+----+-------------+\n",
      "\n",
      "Wall time: 6.13 s\n"
     ]
    }
   ],
   "source": [
    "%%time\n",
    "pipeline = \"[{ $group : { _id : {$dateToString: { format: '%H', date: '$Start_Time' }}, count:{$sum:1}}}]\"\n",
    "df = spark.read.format(\"mongo\").option(\"collection\", \"TrafficData\").option(\"pipeline\", pipeline).load()\n",
    "df = df.groupBy(\"_id\").sum(\"count\")\n",
    "df = df.orderBy(\"_id\")\n",
    "df = df.withColumnRenamed(\"_id\",\"Hour\").withColumnRenamed(\"sum(count)\",\"AccidentCount\")\n",
    "print(\"Number of Documents: \" + str(df.count()))\n",
    "df.agg({'AccidentCount': 'sum'}).show()\n",
    "df.show(49)"
   ]
  },
  {
   "cell_type": "code",
   "execution_count": 5,
   "metadata": {},
   "outputs": [],
   "source": [
    "df.write.format(\"mongo\").option(\"collection\", \"AccidentCountByHour\").mode(\"overwrite\").save()"
   ]
  },
  {
   "cell_type": "code",
   "execution_count": null,
   "metadata": {},
   "outputs": [],
   "source": []
  }
 ],
 "metadata": {
  "kernelspec": {
   "display_name": "Python 3",
   "language": "python",
   "name": "python3"
  },
  "language_info": {
   "codemirror_mode": {
    "name": "ipython",
    "version": 3
   },
   "file_extension": ".py",
   "mimetype": "text/x-python",
   "name": "python",
   "nbconvert_exporter": "python",
   "pygments_lexer": "ipython3",
   "version": "3.7.6"
  }
 },
 "nbformat": 4,
 "nbformat_minor": 4
}
