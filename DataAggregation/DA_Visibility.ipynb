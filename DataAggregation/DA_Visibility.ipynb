{
 "cells": [
  {
   "cell_type": "code",
   "execution_count": null,
   "metadata": {},
   "outputs": [],
   "source": [
    "%run ../ImportsConstantsSparkInit.ipynb\n",
    "sc.setJobGroup(\"DA_Visibility\", \"DA_Visibility\")"
   ]
  },
  {
   "cell_type": "code",
   "execution_count": null,
   "metadata": {},
   "outputs": [],
   "source": [
    "%%time\n",
    "pipeline = \"[{ $group : { _id : '$Visibility-mi', count:{$sum:1}}}, {$sort:{_id:1}}]\"\n",
    "df = spark.read.format(\"mongo\").option(\"collection\", \"TrafficData\").option(\"pipeline\", pipeline).load()\n",
    "df = df.groupby(\"_id\").sum()\n",
    "df = df.withColumnRenamed(\"_id\",\"AccidentVisibility\").withColumnRenamed(\"sum(count)\",\"AccidentCount\")\n",
    "df = df.orderBy(\"AccidentVisibility\")\n",
    "print(\"Number of Documents: \" + str(df.count()))\n",
    "df.agg({'AccidentCount': 'sum'}).show()\n",
    "df.show(49)"
   ]
  },
  {
   "cell_type": "code",
   "execution_count": null,
   "metadata": {},
   "outputs": [],
   "source": [
    "df.write.format(\"mongo\").option(\"collection\", \"AccidentCountByVisibility\").mode(\"overwrite\").save()"
   ]
  },
  {
   "cell_type": "code",
   "execution_count": null,
   "metadata": {},
   "outputs": [],
   "source": []
  }
 ],
 "metadata": {
  "kernelspec": {
   "display_name": "Python 3",
   "language": "python",
   "name": "python3"
  },
  "language_info": {
   "codemirror_mode": {
    "name": "ipython",
    "version": 3
   },
   "file_extension": ".py",
   "mimetype": "text/x-python",
   "name": "python",
   "nbconvert_exporter": "python",
   "pygments_lexer": "ipython3",
   "version": "3.7.6"
  }
 },
 "nbformat": 4,
 "nbformat_minor": 4
}
