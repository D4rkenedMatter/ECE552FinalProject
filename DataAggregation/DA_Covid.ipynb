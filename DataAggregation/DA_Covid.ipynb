{
 "cells": [
  {
   "cell_type": "code",
   "execution_count": 4,
   "metadata": {},
   "outputs": [],
   "source": [
    "%run ../ImportsConstantsSparkInit.ipynb\n",
    "sc.setJobGroup(\"DA_Covid\", \"DA_Covid\")"
   ]
  },
  {
   "cell_type": "code",
   "execution_count": 41,
   "metadata": {
    "scrolled": true
   },
   "outputs": [
    {
     "name": "stdout",
     "output_type": "stream",
     "text": [
      "Number of Documents: 17\n",
      "+------------------+\n",
      "|sum(AccidentCount)|\n",
      "+------------------+\n",
      "|           1006305|\n",
      "+------------------+\n",
      "\n",
      "+-----+----+-------------+\n",
      "|Month|Year|AccidentCount|\n",
      "+-----+----+-------------+\n",
      "|   06|2020|        62451|\n",
      "|   12|2020|       117243|\n",
      "|   02|2020|        34459|\n",
      "|   04|2021|        70857|\n",
      "|   05|2020|        55532|\n",
      "|   03|2021|        65759|\n",
      "|   02|2021|       115190|\n",
      "|   11|2020|       108376|\n",
      "|   05|2021|        28930|\n",
      "|   07|2020|          186|\n",
      "|   03|2020|        46655|\n",
      "|   01|2020|        27366|\n",
      "|   09|2020|        35654|\n",
      "|   08|2020|          488|\n",
      "|   01|2021|       112258|\n",
      "|   04|2020|        55788|\n",
      "|   10|2020|        69113|\n",
      "+-----+----+-------------+\n",
      "\n",
      "Wall time: 14.5 s\n"
     ]
    }
   ],
   "source": [
    "%%time\n",
    "#First year of Covid (March 11 2020) +/- 2 months on either end\n",
    "pipeline = \"[{ $match :{Start_Time: {$gte:ISODate('2020-01-11'), $lt:ISODate('2021-05-12')}}}, { $group : { _id : {$dateToString: { format: '%Y-%m', date: '$Start_Time' }}, count:{$sum:1}}}, {$project:{count:1, Month:{$substr:['$_id', 5,7]}, Year:{$substr:['$_id', 0,4]}}}]\"\n",
    "df = spark.read.format(\"mongo\").option(\"collection\", \"TrafficData\").option(\"pipeline\", pipeline).load()\n",
    "df_temp = df.groupby(\"_id\").sum(\"count\")\n",
    "df = df.join(df_temp, df._id == df_temp._id)\n",
    "df = df.drop(\"count\")\n",
    "df = df.dropDuplicates()\n",
    "df = df.withColumnRenamed(\"_id\",\"Date\").withColumnRenamed(\"sum(count)\",\"AccidentCount\")\n",
    "df = df.drop(\"Date\")\n",
    "print(\"Number of Documents: \" + str(df.count()))\n",
    "df.agg({'AccidentCount': 'sum'}).show()\n",
    "df.show(49)"
   ]
  },
  {
   "cell_type": "code",
   "execution_count": 42,
   "metadata": {},
   "outputs": [],
   "source": [
    "df.write.format(\"mongo\").option(\"collection\", \"FirstYearOfCovidAccidents\").mode(\"overwrite\").save()"
   ]
  },
  {
   "cell_type": "code",
   "execution_count": null,
   "metadata": {},
   "outputs": [],
   "source": []
  }
 ],
 "metadata": {
  "kernelspec": {
   "display_name": "Python 3",
   "language": "python",
   "name": "python3"
  },
  "language_info": {
   "codemirror_mode": {
    "name": "ipython",
    "version": 3
   },
   "file_extension": ".py",
   "mimetype": "text/x-python",
   "name": "python",
   "nbconvert_exporter": "python",
   "pygments_lexer": "ipython3",
   "version": "3.7.6"
  }
 },
 "nbformat": 4,
 "nbformat_minor": 4
}
