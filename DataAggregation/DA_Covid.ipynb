{
 "cells": [
  {
   "cell_type": "code",
   "execution_count": null,
   "metadata": {},
   "outputs": [],
   "source": [
    "%run ../ImportsConstantsSparkInit.ipynb\n",
    "sc.setJobGroup(\"DA_Covid\", \"DA_Covid\")"
   ]
  },
  {
   "cell_type": "code",
   "execution_count": null,
   "metadata": {
    "scrolled": true
   },
   "outputs": [],
   "source": [
    "%%time\n",
    "#First year of Covid (March 11 2020) +/- 2 months on either end\n",
    "pipeline = \"[{ $match :{Start_Time: {$gte:ISODate('2020-01-11'), $lt:ISODate('2021-05-12')}}}, { $group : { _id : {$dateToString: { format: '%Y-%m', date: '$Start_Time' }}, count:{$sum:1}}}, {$project:{count:1, Month:{$substr:['$_id', 5,7]}, Year:{$substr:['$_id', 0,4]}}}]\"\n",
    "df = spark.read.format(\"mongo\").option(\"collection\", \"TrafficData\").option(\"pipeline\", pipeline).load()\n",
    "df_temp = df.groupby(\"_id\").sum(\"count\")\n",
    "df = df.join(df_temp, df._id == df_temp._id)\n",
    "df = df.drop(\"count\")\n",
    "df = df.dropDuplicates()\n",
    "df = df.withColumnRenamed(\"_id\",\"Date\").withColumnRenamed(\"sum(count)\",\"AccidentCount\")\n",
    "df = df.drop(\"Date\")\n",
    "print(\"Number of Documents: \" + str(df.count()))\n",
    "df.agg({'AccidentCount': 'sum'}).show()\n",
    "df.show(49)"
   ]
  },
  {
   "cell_type": "code",
   "execution_count": null,
   "metadata": {},
   "outputs": [],
   "source": [
    "df.write.format(\"mongo\").option(\"collection\", \"FirstYearOfCovidAccidents\").mode(\"overwrite\").save()"
   ]
  },
  {
   "cell_type": "code",
   "execution_count": null,
   "metadata": {},
   "outputs": [],
   "source": []
  }
 ],
 "metadata": {
  "kernelspec": {
   "display_name": "Python 3",
   "language": "python",
   "name": "python3"
  },
  "language_info": {
   "codemirror_mode": {
    "name": "ipython",
    "version": 3
   },
   "file_extension": ".py",
   "mimetype": "text/x-python",
   "name": "python",
   "nbconvert_exporter": "python",
   "pygments_lexer": "ipython3",
   "version": "3.7.6"
  }
 },
 "nbformat": 4,
 "nbformat_minor": 4
}
