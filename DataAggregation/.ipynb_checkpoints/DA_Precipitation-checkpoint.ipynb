{
 "cells": [
  {
   "cell_type": "code",
   "execution_count": null,
   "metadata": {},
   "outputs": [],
   "source": [
    "%%capture\n",
    "%run ../ImportsConstantsSparkInit.ipynb\n",
    "sc.setJobGroup(\"DA_Precipitation\", \"DA_Precipitation\")"
   ]
  },
  {
   "cell_type": "code",
   "execution_count": null,
   "metadata": {},
   "outputs": [],
   "source": [
    "%%time\n",
    "pipeline = \"[{$match:{'Precipitation-in':{$gte:0, $lte:25.0}}},{ $bucket : { groupBy : '$Precipitation-in', boundaries:[0.0,0.0001,0.1,0.2,0.3,0.4,0.5,1,2,3,7,10,25], output: {count:{$sum:1}}}}, {$sort:{_id:1}}]\"\n",
    "#pipeline = \"[{$match:{'Precipitation-in':{$gte:0, $lte:25.0}}},{ $group : { _id:'$Precipitation-in', count:{$sum:1}}}, {$sort:{_id:1}}]\"\n",
    "df = spark.read.format(\"mongo\").option(\"collection\", \"TrafficData\").option(\"pipeline\", pipeline).load()\n",
    "df = df.groupby(\"_id\").sum(\"count\")\n",
    "df = df.withColumnRenamed(\"_id\",\"Precipitation\").withColumnRenamed(\"sum(count)\",\"AccidentCount\")\n",
    "df = df.orderBy(\"Precipitation\")\n",
    "#print(\"Number of Documents: \" + str(df.count()))\n",
    "#df.agg({'AccidentCount': 'sum'}).show()\n",
    "#df.show(230)"
   ]
  },
  {
   "cell_type": "code",
   "execution_count": null,
   "metadata": {},
   "outputs": [],
   "source": [
    "df.write.format(\"mongo\").option(\"collection\", \"AccidentCountByPrecipitation\").mode(\"overwrite\").save()"
   ]
  },
  {
   "cell_type": "code",
   "execution_count": null,
   "metadata": {},
   "outputs": [],
   "source": [
    "print(\"Data Aggregation for Precipitation Data Finished\")"
   ]
  }
 ],
 "metadata": {
  "kernelspec": {
   "display_name": "Python 3",
   "language": "python",
   "name": "python3"
  },
  "language_info": {
   "codemirror_mode": {
    "name": "ipython",
    "version": 3
   },
   "file_extension": ".py",
   "mimetype": "text/x-python",
   "name": "python",
   "nbconvert_exporter": "python",
   "pygments_lexer": "ipython3",
   "version": "3.7.6"
  }
 },
 "nbformat": 4,
 "nbformat_minor": 4
}
