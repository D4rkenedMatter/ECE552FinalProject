{
 "cells": [
  {
   "cell_type": "code",
   "execution_count": null,
   "metadata": {},
   "outputs": [],
   "source": [
    "import os\n",
    "print(os.getcwd())"
   ]
  },
  {
   "cell_type": "code",
   "execution_count": 1,
   "metadata": {},
   "outputs": [],
   "source": [
    "%run ../GenericSparkStartup.ipynb\n",
    "sc.setJobGroup(\"DA_States\", \"DA_States\")"
   ]
  },
  {
   "cell_type": "code",
   "execution_count": 2,
   "metadata": {},
   "outputs": [
    {
     "name": "stdout",
     "output_type": "stream",
     "text": [
      "Number of Documents: 49\n",
      "+------------------+\n",
      "|sum(AccidentCount)|\n",
      "+------------------+\n",
      "|           2845342|\n",
      "+------------------+\n",
      "\n",
      "+-----+-------------+\n",
      "|State|AccidentCount|\n",
      "+-----+-------------+\n",
      "|   AL|        19322|\n",
      "|   AR|        10935|\n",
      "|   AZ|        56504|\n",
      "|   CA|       795868|\n",
      "|   CO|        25340|\n",
      "|   CT|        29762|\n",
      "|   DC|         9133|\n",
      "|   DE|         4842|\n",
      "|   FL|       401388|\n",
      "|   GA|        40086|\n",
      "|   IA|         9607|\n",
      "|   ID|         8544|\n",
      "|   IL|        47105|\n",
      "|   IN|        20850|\n",
      "|   KS|         9033|\n",
      "|   KY|         6638|\n",
      "|   LA|        47232|\n",
      "|   MA|         6392|\n",
      "|   MD|        65085|\n",
      "|   ME|         2193|\n",
      "|   MI|        43843|\n",
      "|   MN|        97185|\n",
      "|   MO|        29633|\n",
      "|   MS|         5320|\n",
      "|   MT|        15964|\n",
      "|   NC|        91362|\n",
      "|   ND|         2258|\n",
      "|   NE|         3320|\n",
      "|   NH|         3866|\n",
      "|   NJ|        52902|\n",
      "|   NM|         2370|\n",
      "|   NV|         6197|\n",
      "|   NY|       108049|\n",
      "|   OH|        24409|\n",
      "|   OK|         8806|\n",
      "|   OR|       126341|\n",
      "|   PA|        99975|\n",
      "|   RI|         4451|\n",
      "|   SC|        89216|\n",
      "|   SD|          201|\n",
      "|   TN|        52613|\n",
      "|   TX|       149037|\n",
      "|   UT|        49193|\n",
      "|   VA|       113535|\n",
      "|   VT|          365|\n",
      "|   WA|        32554|\n",
      "|   WI|         7896|\n",
      "|   WV|         7632|\n",
      "|   WY|          990|\n",
      "+-----+-------------+\n",
      "\n",
      "Wall time: 6.52 s\n"
     ]
    }
   ],
   "source": [
    "%%time\n",
    "pipeline = \"[{ $group : { _id : '$State', count:{$sum:1}}}, {$sort:{_id:1}}]\"\n",
    "df = spark.read.format(\"mongo\").option(\"collection\", \"TrafficData\").option(\"pipeline\", pipeline).load()\n",
    "df = df.groupby(\"_id\").sum()\n",
    "df = df.withColumnRenamed(\"_id\",\"State\").withColumnRenamed(\"sum(count)\",\"AccidentCount\")\n",
    "df = df.orderBy(\"State\")\n",
    "print(\"Number of Documents: \" + str(df.count()))\n",
    "df.agg({'AccidentCount': 'sum'}).show()\n",
    "df.show(49)"
   ]
  },
  {
   "cell_type": "code",
   "execution_count": null,
   "metadata": {},
   "outputs": [],
   "source": [
    "df.write.format(\"mongo\").option(\"collection\", \"AccidentCountByState\").mode(\"overwrite\").save()"
   ]
  },
  {
   "cell_type": "code",
   "execution_count": null,
   "metadata": {},
   "outputs": [],
   "source": []
  }
 ],
 "metadata": {
  "kernelspec": {
   "display_name": "Python 3",
   "language": "python",
   "name": "python3"
  },
  "language_info": {
   "codemirror_mode": {
    "name": "ipython",
    "version": 3
   },
   "file_extension": ".py",
   "mimetype": "text/x-python",
   "name": "python",
   "nbconvert_exporter": "python",
   "pygments_lexer": "ipython3",
   "version": "3.7.6"
  }
 },
 "nbformat": 4,
 "nbformat_minor": 4
}
