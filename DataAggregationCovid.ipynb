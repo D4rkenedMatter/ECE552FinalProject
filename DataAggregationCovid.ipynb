{
 "cells": [
  {
   "cell_type": "code",
   "execution_count": 3,
   "metadata": {},
   "outputs": [
    {
     "data": {
      "text/plain": [
       "[('spark.driver.host', 'host.docker.internal'),\n",
       " ('spark.driver.port', '50333'),\n",
       " ('spark.rdd.compress', 'True'),\n",
       " ('spark.app.id', 'local-1684004651327'),\n",
       " ('spark.driver.memory', '2g'),\n",
       " ('spark.serializer.objectStreamReset', '100'),\n",
       " ('spark.master', 'local[*]'),\n",
       " ('spark.executor.id', 'driver'),\n",
       " ('spark.submit.deployMode', 'client'),\n",
       " ('spark.mongodb.output.uri', 'mongodb://127.0.0.1/ECE552FinalProject'),\n",
       " ('spark.app.name', 'ECE552_FinalProject'),\n",
       " ('spark.mongodb.input.uri', 'mongodb://127.0.0.1/ECE552FinalProject'),\n",
       " ('spark.ui.showConsoleProgress', 'true')]"
      ]
     },
     "execution_count": 3,
     "metadata": {},
     "output_type": "execute_result"
    }
   ],
   "source": [
    "import findspark\n",
    "findspark.init()\n",
    "import pyspark\n",
    "from pyspark.context import SparkContext\n",
    "from pyspark.sql import SparkSession\n",
    "from pyspark.sql.functions import *\n",
    "spark = SparkSession \\\n",
    "    .builder \\\n",
    "    .appName(\"ECE552_FinalProject\") \\\n",
    "    .config(\"spark.driver.memory\", \"2g\") \\\n",
    "    .config(\"spark.mongodb.input.uri\", \"mongodb://127.0.0.1/ECE552FinalProject\") \\\n",
    "    .config(\"spark.mongodb.output.uri\", \"mongodb://127.0.0.1/ECE552FinalProject\") \\\n",
    "    .getOrCreate()\n",
    "sc = SparkContext.getOrCreate()\n",
    "spark.sparkContext._conf.getAll()"
   ]
  },
  {
   "cell_type": "code",
   "execution_count": 93,
   "metadata": {},
   "outputs": [
    {
     "name": "stdout",
     "output_type": "stream",
     "text": [
      "Wall time: 31.4 s\n"
     ]
    },
    {
     "data": {
      "text/plain": [
       "467417"
      ]
     },
     "execution_count": 93,
     "metadata": {},
     "output_type": "execute_result"
    }
   ],
   "source": [
    "#Declaration of Pandemic to First Vaccine\n",
    "%%time\n",
    "pipeline = \"[{ $match :{Start_Time: {$gt:ISODate('2020-03-11'), $lt:ISODate('2020-12-14')}}}]\"\n",
    "df = spark.read.format(\"mongo\").option(\"collection\", \"TrafficData\").option(\"pipeline\", pipeline).load()\n",
    "df.count()"
   ]
  },
  {
   "cell_type": "code",
   "execution_count": 94,
   "metadata": {},
   "outputs": [
    {
     "name": "stdout",
     "output_type": "stream",
     "text": [
      "Wall time: 45.4 s\n"
     ]
    },
    {
     "data": {
      "text/plain": [
       "792338"
      ]
     },
     "execution_count": 94,
     "metadata": {},
     "output_type": "execute_result"
    }
   ],
   "source": [
    "#First year of Covid\n",
    "%%time\n",
    "pipeline = \"[{ $match :{Start_Time: {$gt:ISODate('2020-03-11'), $lt:ISODate('2021-03-11')}}}]\"\n",
    "df = spark.read.format(\"mongo\").option(\"collection\", \"TrafficData\").option(\"pipeline\", pipeline).load()\n",
    "df.count()"
   ]
  },
  {
   "cell_type": "code",
   "execution_count": null,
   "metadata": {},
   "outputs": [],
   "source": []
  }
 ],
 "metadata": {
  "kernelspec": {
   "display_name": "Python 3",
   "language": "python",
   "name": "python3"
  },
  "language_info": {
   "codemirror_mode": {
    "name": "ipython",
    "version": 3
   },
   "file_extension": ".py",
   "mimetype": "text/x-python",
   "name": "python",
   "nbconvert_exporter": "python",
   "pygments_lexer": "ipython3",
   "version": "3.7.6"
  }
 },
 "nbformat": 4,
 "nbformat_minor": 4
}
