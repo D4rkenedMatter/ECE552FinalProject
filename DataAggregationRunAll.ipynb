{
 "cells": [
  {
   "cell_type": "code",
   "execution_count": null,
   "metadata": {},
   "outputs": [],
   "source": [
    "import os\n",
    "os.chdir(\"./DataAggregation\")\n",
    "%run ./DA_States.ipynb\n",
    "%run ./DA_AstronomicalTwilight.ipynb\n",
    "%run ./DA_CivilTwilight.ipynb\n",
    "%run ./DA_NauticalTwilight.ipynb\n",
    "%run ./DA_SunriseSunset.ipynb\n",
    "%run ./DA_Severity.ipynb\n",
    "%run ./DA_Side.ipynb\n",
    "%run ./DA_Visibility.ipynb\n",
    "%run ./DA_WeatherCondition.ipynb\n",
    "%run ./DA_DayOfWeek.ipynb\n",
    "%run ./DA_Month.ipynb\n",
    "%run ./DA_Year.ipynb\n",
    "os.chdir(\"..\")"
   ]
  },
  {
   "cell_type": "code",
   "execution_count": null,
   "metadata": {},
   "outputs": [],
   "source": []
  }
 ],
 "metadata": {
  "kernelspec": {
   "display_name": "Python 3",
   "language": "python",
   "name": "python3"
  },
  "language_info": {
   "codemirror_mode": {
    "name": "ipython",
    "version": 3
   },
   "file_extension": ".py",
   "mimetype": "text/x-python",
   "name": "python",
   "nbconvert_exporter": "python",
   "pygments_lexer": "ipython3",
   "version": "3.7.6"
  }
 },
 "nbformat": 4,
 "nbformat_minor": 4
}
